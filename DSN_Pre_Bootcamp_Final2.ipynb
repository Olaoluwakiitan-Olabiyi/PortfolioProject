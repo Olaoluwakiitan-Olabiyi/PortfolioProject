{
  "nbformat": 4,
  "nbformat_minor": 0,
  "metadata": {
    "kernelspec": {
      "display_name": "Python 3",
      "language": "python",
      "name": "python3"
    },
    "language_info": {
      "codemirror_mode": {
        "name": "ipython",
        "version": 3
      },
      "file_extension": ".py",
      "mimetype": "text/x-python",
      "name": "python",
      "nbconvert_exporter": "python",
      "pygments_lexer": "ipython3",
      "version": "3.7.4"
    },
    "colab": {
      "name": "DSN Pre-Bootcamp Final2.ipynb",
      "provenance": [],
      "include_colab_link": true
    }
  },
  "cells": [
    {
      "cell_type": "markdown",
      "metadata": {
        "id": "view-in-github",
        "colab_type": "text"
      },
      "source": [
        "<a href=\"https://colab.research.google.com/github/Olaoluwakiitan-Olabiyi/PortfolioProject/blob/main/DSN_Pre_Bootcamp_Final2.ipynb\" target=\"_parent\"><img src=\"https://colab.research.google.com/assets/colab-badge.svg\" alt=\"Open In Colab\"/></a>"
      ]
    },
    {
      "cell_type": "code",
      "metadata": {
        "colab": {
          "base_uri": "https://localhost:8080/"
        },
        "id": "jtMrPArYKIcC",
        "outputId": "f3243634-4f08-4fe2-9a63-0be4a36729f6"
      },
      "source": [
        "!pip install lightgbm==3.2.1"
      ],
      "execution_count": null,
      "outputs": [
        {
          "output_type": "stream",
          "name": "stdout",
          "text": [
            "Collecting lightgbm==3.2.1\n",
            "  Downloading lightgbm-3.2.1-py3-none-manylinux1_x86_64.whl (2.0 MB)\n",
            "\u001b[K     |████████████████████████████████| 2.0 MB 5.1 MB/s \n",
            "\u001b[?25hRequirement already satisfied: scipy in /usr/local/lib/python3.7/dist-packages (from lightgbm==3.2.1) (1.4.1)\n",
            "Requirement already satisfied: scikit-learn!=0.22.0 in /usr/local/lib/python3.7/dist-packages (from lightgbm==3.2.1) (0.22.2.post1)\n",
            "Requirement already satisfied: numpy in /usr/local/lib/python3.7/dist-packages (from lightgbm==3.2.1) (1.19.5)\n",
            "Requirement already satisfied: wheel in /usr/local/lib/python3.7/dist-packages (from lightgbm==3.2.1) (0.37.0)\n",
            "Requirement already satisfied: joblib>=0.11 in /usr/local/lib/python3.7/dist-packages (from scikit-learn!=0.22.0->lightgbm==3.2.1) (1.0.1)\n",
            "Installing collected packages: lightgbm\n",
            "  Attempting uninstall: lightgbm\n",
            "    Found existing installation: lightgbm 2.2.3\n",
            "    Uninstalling lightgbm-2.2.3:\n",
            "      Successfully uninstalled lightgbm-2.2.3\n",
            "Successfully installed lightgbm-3.2.1\n"
          ]
        }
      ]
    },
    {
      "cell_type": "code",
      "metadata": {
        "colab": {
          "base_uri": "https://localhost:8080/"
        },
        "id": "dizLGZfhOov2",
        "outputId": "87f21cb6-02bd-4a0f-8a2f-ebdfe0e2793f"
      },
      "source": [
        "!pip install catboost"
      ],
      "execution_count": null,
      "outputs": [
        {
          "output_type": "stream",
          "name": "stdout",
          "text": [
            "Collecting catboost\n",
            "  Downloading catboost-1.0.0-cp37-none-manylinux1_x86_64.whl (76.4 MB)\n",
            "\u001b[K     |████████████████████████████████| 76.4 MB 21 kB/s \n",
            "\u001b[?25hRequirement already satisfied: six in /usr/local/lib/python3.7/dist-packages (from catboost) (1.15.0)\n",
            "Requirement already satisfied: numpy>=1.16.0 in /usr/local/lib/python3.7/dist-packages (from catboost) (1.19.5)\n",
            "Requirement already satisfied: matplotlib in /usr/local/lib/python3.7/dist-packages (from catboost) (3.2.2)\n",
            "Requirement already satisfied: plotly in /usr/local/lib/python3.7/dist-packages (from catboost) (4.4.1)\n",
            "Requirement already satisfied: graphviz in /usr/local/lib/python3.7/dist-packages (from catboost) (0.10.1)\n",
            "Requirement already satisfied: scipy in /usr/local/lib/python3.7/dist-packages (from catboost) (1.4.1)\n",
            "Requirement already satisfied: pandas>=0.24.0 in /usr/local/lib/python3.7/dist-packages (from catboost) (1.1.5)\n",
            "Requirement already satisfied: python-dateutil>=2.7.3 in /usr/local/lib/python3.7/dist-packages (from pandas>=0.24.0->catboost) (2.8.2)\n",
            "Requirement already satisfied: pytz>=2017.2 in /usr/local/lib/python3.7/dist-packages (from pandas>=0.24.0->catboost) (2018.9)\n",
            "Requirement already satisfied: kiwisolver>=1.0.1 in /usr/local/lib/python3.7/dist-packages (from matplotlib->catboost) (1.3.2)\n",
            "Requirement already satisfied: pyparsing!=2.0.4,!=2.1.2,!=2.1.6,>=2.0.1 in /usr/local/lib/python3.7/dist-packages (from matplotlib->catboost) (2.4.7)\n",
            "Requirement already satisfied: cycler>=0.10 in /usr/local/lib/python3.7/dist-packages (from matplotlib->catboost) (0.10.0)\n",
            "Requirement already satisfied: retrying>=1.3.3 in /usr/local/lib/python3.7/dist-packages (from plotly->catboost) (1.3.3)\n",
            "Installing collected packages: catboost\n",
            "Successfully installed catboost-1.0.0\n"
          ]
        }
      ]
    },
    {
      "cell_type": "markdown",
      "metadata": {
        "id": "DZBGCQSqhGj-"
      },
      "source": [
        "# Problem Statement\n",
        "Sapa.com is one of the leading eCommerce platforms in Nigeria with millions of daily complete transactions. The goods and services on sapa.com cater for both the elite and the masses which makes it the first choice for almost everybody in Nigeria. Due to the COVID-19 pandemic that struck the entire world in all areas of living, the companies' daily complete transactions have dropped drastically to thousands.\n",
        "\n",
        "The CEO, Mr Echoke in his recent actions to put the platform back to the top of the eCommerce platforms chain in the country has approved the use of Artificial intelligence in User Personality Analysis. The company has contracted your team consisting of AI professionals with a special focus on recommender system development to build a robust intelligent model capable of recommending products and services to Users based on their activities on sapa.com.\n",
        "\n",
        "Your team lead has assigned you to the building of a model capable of predicting users’ responses to marketing campaigns based on the features in the provided dataset by the sapa.com data engineer. The next phase of the project is highly dependent on the accuracy of your model as this is the foundation of what will constitute the features of the proposed recommender system development. Good luck!\n",
        "\n"
      ]
    },
    {
      "cell_type": "markdown",
      "metadata": {
        "id": "ftb8WPlIhC0x"
      },
      "source": [
        "## Import Libraries"
      ]
    },
    {
      "cell_type": "code",
      "metadata": {
        "id": "lLUDrZ_HbWKJ"
      },
      "source": [
        "import pandas as pd\n",
        "import numpy as np\n",
        "pd.set_option ('max_columns', None)\n",
        "pd.set_option ('max_rows', 100)\n",
        "import matplotlib.pyplot as plt\n",
        "import seaborn as sns\n",
        "%matplotlib inline\n",
        "\n",
        "sns.set_style('whitegrid')\n",
        "\n",
        "from datetime import datetime\n",
        "from dateutil.parser import parse\n",
        "\n",
        "# when using Scikit-Learn's Imputer class\n",
        "from sklearn.impute import SimpleImputer\n",
        "from sklearn import preprocessing\n",
        "\n",
        "\n",
        "from sklearn.linear_model import LogisticRegression\n",
        "\n",
        "from sklearn.metrics import accuracy_score\n",
        "\n",
        "from sklearn.preprocessing import LabelEncoder\n",
        "\n",
        "from sklearn.neighbors import KNeighborsRegressor\n",
        "import scipy.stats\n",
        "\n",
        "from sklearn.model_selection import train_test_split\n",
        "\n",
        "from sklearn.preprocessing import StandardScaler\n",
        "\n",
        "from sklearn.utils import resample\n",
        "from sklearn.pipeline import Pipeline\n",
        "\n",
        "from lightgbm import LGBMRegressor, LGBMClassifier\n",
        "from xgboost import XGBRegressor, XGBClassifier\n",
        "from catboost import CatBoostRegressor, CatBoostClassifier\n",
        "from sklearn.linear_model import Ridge ,LinearRegression\n",
        "import imblearn\n",
        "from tqdm import tqdm_notebook\n",
        "from sklearn.model_selection import KFold,StratifiedKFold ,GroupKFold, cross_val_score\n",
        "from sklearn.metrics import mean_squared_error, f1_score, confusion_matrix, classification_report, recall_score, precision_recall_fscore_support, precision_score\n",
        "from sklearn.preprocessing import LabelEncoder\n",
        "from sklearn.cluster import KMeans\n",
        "\n",
        "#Plots\n",
        "\n",
        "import seaborn as sns\n",
        "sns.set_context ('paper')     # set the scale\n",
        "import matplotlib.pyplot as plt\n",
        "%matplotlib inline\n",
        "plt.style.use('seaborn-darkgrid')\n",
        "\n",
        "import warnings\n",
        "warnings.filterwarnings('ignore')\n",
        "\n",
        "\n",
        "\n"
      ],
      "execution_count": null,
      "outputs": []
    },
    {
      "cell_type": "markdown",
      "metadata": {
        "id": "hYTuQDO_g8Jf"
      },
      "source": [
        "## Load Datasets"
      ]
    },
    {
      "cell_type": "code",
      "metadata": {
        "id": "jhUvdFtKKIcO"
      },
      "source": [
        "train = pd.read_csv('Train.csv')\n",
        "test = pd.read_csv('Test.csv')\n",
        "submission_file = pd.read_csv('SampleSubmission.csv')"
      ],
      "execution_count": null,
      "outputs": []
    },
    {
      "cell_type": "code",
      "metadata": {
        "colab": {
          "base_uri": "https://localhost:8080/",
          "height": 158
        },
        "id": "KZmmP_9IhkS_",
        "outputId": "ec8ad0ab-3908-4675-b1b7-02f13af95421"
      },
      "source": [
        "train.head(3)"
      ],
      "execution_count": null,
      "outputs": [
        {
          "output_type": "execute_result",
          "data": {
            "text/html": [
              "<div>\n",
              "<style scoped>\n",
              "    .dataframe tbody tr th:only-of-type {\n",
              "        vertical-align: middle;\n",
              "    }\n",
              "\n",
              "    .dataframe tbody tr th {\n",
              "        vertical-align: top;\n",
              "    }\n",
              "\n",
              "    .dataframe thead th {\n",
              "        text-align: right;\n",
              "    }\n",
              "</style>\n",
              "<table border=\"1\" class=\"dataframe\">\n",
              "  <thead>\n",
              "    <tr style=\"text-align: right;\">\n",
              "      <th></th>\n",
              "      <th>ID</th>\n",
              "      <th>Year_of_Birth</th>\n",
              "      <th>Education_Level</th>\n",
              "      <th>Marital_Status</th>\n",
              "      <th>Disposable_Income</th>\n",
              "      <th>No_of_Kids_in_home</th>\n",
              "      <th>No_of_Teen_in_home</th>\n",
              "      <th>Date_Customer</th>\n",
              "      <th>Recency</th>\n",
              "      <th>Discounted_Purchases</th>\n",
              "      <th>WebPurchases</th>\n",
              "      <th>CatalogPurchases</th>\n",
              "      <th>StorePurchases</th>\n",
              "      <th>Amount_on_Wines</th>\n",
              "      <th>Amount_on_Fruits</th>\n",
              "      <th>Amount_on_MeatProducts</th>\n",
              "      <th>Amount_on_FishProducts</th>\n",
              "      <th>Amount_on_SweetProducts</th>\n",
              "      <th>Amount_on_GoldProds</th>\n",
              "      <th>WebVisitsMonth</th>\n",
              "      <th>Cmp3Accepted</th>\n",
              "      <th>Cmp4Accepted</th>\n",
              "      <th>Cmp5Accepted</th>\n",
              "      <th>Cmp1Accepted</th>\n",
              "      <th>Cmp2Accepted</th>\n",
              "      <th>Any_Complain</th>\n",
              "      <th>Response</th>\n",
              "    </tr>\n",
              "  </thead>\n",
              "  <tbody>\n",
              "    <tr>\n",
              "      <th>0</th>\n",
              "      <td>ID_4A9AR6FQ</td>\n",
              "      <td>1955</td>\n",
              "      <td>Graduation</td>\n",
              "      <td>Divorced</td>\n",
              "      <td>77504.4</td>\n",
              "      <td>1</td>\n",
              "      <td>1</td>\n",
              "      <td>22-06-2014</td>\n",
              "      <td>56</td>\n",
              "      <td>2</td>\n",
              "      <td>1</td>\n",
              "      <td>1</td>\n",
              "      <td>4</td>\n",
              "      <td>71</td>\n",
              "      <td>3</td>\n",
              "      <td>16</td>\n",
              "      <td>0</td>\n",
              "      <td>6</td>\n",
              "      <td>20</td>\n",
              "      <td>3</td>\n",
              "      <td>0</td>\n",
              "      <td>0</td>\n",
              "      <td>0</td>\n",
              "      <td>0</td>\n",
              "      <td>0</td>\n",
              "      <td>0</td>\n",
              "      <td>0</td>\n",
              "    </tr>\n",
              "    <tr>\n",
              "      <th>1</th>\n",
              "      <td>ID_X28T3VEK</td>\n",
              "      <td>1958</td>\n",
              "      <td>Graduation</td>\n",
              "      <td>Together</td>\n",
              "      <td>56784.0</td>\n",
              "      <td>0</td>\n",
              "      <td>1</td>\n",
              "      <td>01-08-2013</td>\n",
              "      <td>17</td>\n",
              "      <td>6</td>\n",
              "      <td>5</td>\n",
              "      <td>1</td>\n",
              "      <td>8</td>\n",
              "      <td>205</td>\n",
              "      <td>22</td>\n",
              "      <td>111</td>\n",
              "      <td>50</td>\n",
              "      <td>15</td>\n",
              "      <td>19</td>\n",
              "      <td>6</td>\n",
              "      <td>0</td>\n",
              "      <td>0</td>\n",
              "      <td>0</td>\n",
              "      <td>0</td>\n",
              "      <td>0</td>\n",
              "      <td>0</td>\n",
              "      <td>0</td>\n",
              "    </tr>\n",
              "    <tr>\n",
              "      <th>2</th>\n",
              "      <td>ID_AWXARH57</td>\n",
              "      <td>1962</td>\n",
              "      <td>Graduation</td>\n",
              "      <td>Single</td>\n",
              "      <td>103714.8</td>\n",
              "      <td>0</td>\n",
              "      <td>0</td>\n",
              "      <td>21-11-2013</td>\n",
              "      <td>17</td>\n",
              "      <td>0</td>\n",
              "      <td>7</td>\n",
              "      <td>4</td>\n",
              "      <td>7</td>\n",
              "      <td>469</td>\n",
              "      <td>31</td>\n",
              "      <td>873</td>\n",
              "      <td>29</td>\n",
              "      <td>18</td>\n",
              "      <td>37</td>\n",
              "      <td>2</td>\n",
              "      <td>0</td>\n",
              "      <td>0</td>\n",
              "      <td>0</td>\n",
              "      <td>1</td>\n",
              "      <td>0</td>\n",
              "      <td>0</td>\n",
              "      <td>1</td>\n",
              "    </tr>\n",
              "  </tbody>\n",
              "</table>\n",
              "</div>"
            ],
            "text/plain": [
              "            ID  Year_of_Birth Education_Level Marital_Status  \\\n",
              "0  ID_4A9AR6FQ           1955      Graduation       Divorced   \n",
              "1  ID_X28T3VEK           1958      Graduation       Together   \n",
              "2  ID_AWXARH57           1962      Graduation         Single   \n",
              "\n",
              "   Disposable_Income  No_of_Kids_in_home  No_of_Teen_in_home Date_Customer  \\\n",
              "0            77504.4                   1                   1    22-06-2014   \n",
              "1            56784.0                   0                   1    01-08-2013   \n",
              "2           103714.8                   0                   0    21-11-2013   \n",
              "\n",
              "   Recency  Discounted_Purchases  WebPurchases  CatalogPurchases  \\\n",
              "0       56                     2             1                 1   \n",
              "1       17                     6             5                 1   \n",
              "2       17                     0             7                 4   \n",
              "\n",
              "   StorePurchases  Amount_on_Wines  Amount_on_Fruits  Amount_on_MeatProducts  \\\n",
              "0               4               71                 3                      16   \n",
              "1               8              205                22                     111   \n",
              "2               7              469                31                     873   \n",
              "\n",
              "   Amount_on_FishProducts  Amount_on_SweetProducts  Amount_on_GoldProds  \\\n",
              "0                       0                        6                   20   \n",
              "1                      50                       15                   19   \n",
              "2                      29                       18                   37   \n",
              "\n",
              "   WebVisitsMonth  Cmp3Accepted  Cmp4Accepted  Cmp5Accepted  Cmp1Accepted  \\\n",
              "0               3             0             0             0             0   \n",
              "1               6             0             0             0             0   \n",
              "2               2             0             0             0             1   \n",
              "\n",
              "   Cmp2Accepted  Any_Complain  Response  \n",
              "0             0             0         0  \n",
              "1             0             0         0  \n",
              "2             0             0         1  "
            ]
          },
          "metadata": {},
          "execution_count": 72
        }
      ]
    },
    {
      "cell_type": "code",
      "metadata": {
        "colab": {
          "base_uri": "https://localhost:8080/",
          "height": 158
        },
        "id": "BrgvAb3qhqc6",
        "outputId": "f51a5311-6df4-4de3-bab2-a37543f31022"
      },
      "source": [
        "test.head(3)"
      ],
      "execution_count": null,
      "outputs": [
        {
          "output_type": "execute_result",
          "data": {
            "text/html": [
              "<div>\n",
              "<style scoped>\n",
              "    .dataframe tbody tr th:only-of-type {\n",
              "        vertical-align: middle;\n",
              "    }\n",
              "\n",
              "    .dataframe tbody tr th {\n",
              "        vertical-align: top;\n",
              "    }\n",
              "\n",
              "    .dataframe thead th {\n",
              "        text-align: right;\n",
              "    }\n",
              "</style>\n",
              "<table border=\"1\" class=\"dataframe\">\n",
              "  <thead>\n",
              "    <tr style=\"text-align: right;\">\n",
              "      <th></th>\n",
              "      <th>ID</th>\n",
              "      <th>Year_of_Birth</th>\n",
              "      <th>Education_Level</th>\n",
              "      <th>Marital_Status</th>\n",
              "      <th>Disposable_Income</th>\n",
              "      <th>No_of_Kids_in_home</th>\n",
              "      <th>No_of_Teen_in_home</th>\n",
              "      <th>Date_Customer</th>\n",
              "      <th>Recency</th>\n",
              "      <th>Discounted_Purchases</th>\n",
              "      <th>WebPurchases</th>\n",
              "      <th>CatalogPurchases</th>\n",
              "      <th>StorePurchases</th>\n",
              "      <th>Amount_on_Wines</th>\n",
              "      <th>Amount_on_Fruits</th>\n",
              "      <th>Amount_on_MeatProducts</th>\n",
              "      <th>Amount_on_FishProducts</th>\n",
              "      <th>Amount_on_SweetProducts</th>\n",
              "      <th>Amount_on_GoldProds</th>\n",
              "      <th>WebVisitsMonth</th>\n",
              "      <th>Cmp3Accepted</th>\n",
              "      <th>Cmp4Accepted</th>\n",
              "      <th>Cmp5Accepted</th>\n",
              "      <th>Cmp1Accepted</th>\n",
              "      <th>Cmp2Accepted</th>\n",
              "      <th>Any_Complain</th>\n",
              "    </tr>\n",
              "  </thead>\n",
              "  <tbody>\n",
              "    <tr>\n",
              "      <th>0</th>\n",
              "      <td>ID_ZPMABNVX</td>\n",
              "      <td>1954</td>\n",
              "      <td>Graduation</td>\n",
              "      <td>Single</td>\n",
              "      <td>48556.8</td>\n",
              "      <td>0</td>\n",
              "      <td>1</td>\n",
              "      <td>11-01-2013</td>\n",
              "      <td>85</td>\n",
              "      <td>6</td>\n",
              "      <td>8</td>\n",
              "      <td>2</td>\n",
              "      <td>8</td>\n",
              "      <td>429</td>\n",
              "      <td>20</td>\n",
              "      <td>118</td>\n",
              "      <td>7</td>\n",
              "      <td>23</td>\n",
              "      <td>41</td>\n",
              "      <td>8</td>\n",
              "      <td>0</td>\n",
              "      <td>0</td>\n",
              "      <td>0</td>\n",
              "      <td>0</td>\n",
              "      <td>0</td>\n",
              "      <td>0</td>\n",
              "    </tr>\n",
              "    <tr>\n",
              "      <th>1</th>\n",
              "      <td>ID_WFE91NAA</td>\n",
              "      <td>1961</td>\n",
              "      <td>Graduation</td>\n",
              "      <td>Widow</td>\n",
              "      <td>57499.2</td>\n",
              "      <td>0</td>\n",
              "      <td>1</td>\n",
              "      <td>22-11-2012</td>\n",
              "      <td>79</td>\n",
              "      <td>5</td>\n",
              "      <td>7</td>\n",
              "      <td>4</td>\n",
              "      <td>6</td>\n",
              "      <td>510</td>\n",
              "      <td>3</td>\n",
              "      <td>26</td>\n",
              "      <td>0</td>\n",
              "      <td>0</td>\n",
              "      <td>75</td>\n",
              "      <td>6</td>\n",
              "      <td>0</td>\n",
              "      <td>1</td>\n",
              "      <td>0</td>\n",
              "      <td>0</td>\n",
              "      <td>0</td>\n",
              "      <td>0</td>\n",
              "    </tr>\n",
              "    <tr>\n",
              "      <th>2</th>\n",
              "      <td>ID_JV11RBRK</td>\n",
              "      <td>1973</td>\n",
              "      <td>Basic</td>\n",
              "      <td>Married</td>\n",
              "      <td>17025.6</td>\n",
              "      <td>0</td>\n",
              "      <td>0</td>\n",
              "      <td>28-02-2013</td>\n",
              "      <td>47</td>\n",
              "      <td>1</td>\n",
              "      <td>2</td>\n",
              "      <td>0</td>\n",
              "      <td>4</td>\n",
              "      <td>7</td>\n",
              "      <td>10</td>\n",
              "      <td>11</td>\n",
              "      <td>16</td>\n",
              "      <td>12</td>\n",
              "      <td>27</td>\n",
              "      <td>6</td>\n",
              "      <td>0</td>\n",
              "      <td>0</td>\n",
              "      <td>0</td>\n",
              "      <td>0</td>\n",
              "      <td>0</td>\n",
              "      <td>0</td>\n",
              "    </tr>\n",
              "  </tbody>\n",
              "</table>\n",
              "</div>"
            ],
            "text/plain": [
              "            ID  Year_of_Birth Education_Level Marital_Status  \\\n",
              "0  ID_ZPMABNVX           1954      Graduation         Single   \n",
              "1  ID_WFE91NAA           1961      Graduation          Widow   \n",
              "2  ID_JV11RBRK           1973           Basic        Married   \n",
              "\n",
              "   Disposable_Income  No_of_Kids_in_home  No_of_Teen_in_home Date_Customer  \\\n",
              "0            48556.8                   0                   1    11-01-2013   \n",
              "1            57499.2                   0                   1    22-11-2012   \n",
              "2            17025.6                   0                   0    28-02-2013   \n",
              "\n",
              "   Recency  Discounted_Purchases  WebPurchases  CatalogPurchases  \\\n",
              "0       85                     6             8                 2   \n",
              "1       79                     5             7                 4   \n",
              "2       47                     1             2                 0   \n",
              "\n",
              "   StorePurchases  Amount_on_Wines  Amount_on_Fruits  Amount_on_MeatProducts  \\\n",
              "0               8              429                20                     118   \n",
              "1               6              510                 3                      26   \n",
              "2               4                7                10                      11   \n",
              "\n",
              "   Amount_on_FishProducts  Amount_on_SweetProducts  Amount_on_GoldProds  \\\n",
              "0                       7                       23                   41   \n",
              "1                       0                        0                   75   \n",
              "2                      16                       12                   27   \n",
              "\n",
              "   WebVisitsMonth  Cmp3Accepted  Cmp4Accepted  Cmp5Accepted  Cmp1Accepted  \\\n",
              "0               8             0             0             0             0   \n",
              "1               6             0             1             0             0   \n",
              "2               6             0             0             0             0   \n",
              "\n",
              "   Cmp2Accepted  Any_Complain  \n",
              "0             0             0  \n",
              "1             0             0  \n",
              "2             0             0  "
            ]
          },
          "metadata": {},
          "execution_count": 73
        }
      ]
    },
    {
      "cell_type": "code",
      "metadata": {
        "colab": {
          "base_uri": "https://localhost:8080/",
          "height": 200
        },
        "id": "QIXV_M1HhuDl",
        "outputId": "d8c6da48-6e39-45b0-d2a2-86f5ed1229d6"
      },
      "source": [
        "submission_file.head()"
      ],
      "execution_count": null,
      "outputs": [
        {
          "output_type": "execute_result",
          "data": {
            "text/html": [
              "<div>\n",
              "<style scoped>\n",
              "    .dataframe tbody tr th:only-of-type {\n",
              "        vertical-align: middle;\n",
              "    }\n",
              "\n",
              "    .dataframe tbody tr th {\n",
              "        vertical-align: top;\n",
              "    }\n",
              "\n",
              "    .dataframe thead th {\n",
              "        text-align: right;\n",
              "    }\n",
              "</style>\n",
              "<table border=\"1\" class=\"dataframe\">\n",
              "  <thead>\n",
              "    <tr style=\"text-align: right;\">\n",
              "      <th></th>\n",
              "      <th>ID</th>\n",
              "      <th>Response</th>\n",
              "    </tr>\n",
              "  </thead>\n",
              "  <tbody>\n",
              "    <tr>\n",
              "      <th>0</th>\n",
              "      <td>ID_ZPMABNVX</td>\n",
              "      <td>NaN</td>\n",
              "    </tr>\n",
              "    <tr>\n",
              "      <th>1</th>\n",
              "      <td>ID_WFE91NAA</td>\n",
              "      <td>NaN</td>\n",
              "    </tr>\n",
              "    <tr>\n",
              "      <th>2</th>\n",
              "      <td>ID_JV11RBRK</td>\n",
              "      <td>NaN</td>\n",
              "    </tr>\n",
              "    <tr>\n",
              "      <th>3</th>\n",
              "      <td>ID_6B7SVKY9</td>\n",
              "      <td>NaN</td>\n",
              "    </tr>\n",
              "    <tr>\n",
              "      <th>4</th>\n",
              "      <td>ID_GOVUZ545</td>\n",
              "      <td>NaN</td>\n",
              "    </tr>\n",
              "  </tbody>\n",
              "</table>\n",
              "</div>"
            ],
            "text/plain": [
              "            ID  Response\n",
              "0  ID_ZPMABNVX       NaN\n",
              "1  ID_WFE91NAA       NaN\n",
              "2  ID_JV11RBRK       NaN\n",
              "3  ID_6B7SVKY9       NaN\n",
              "4  ID_GOVUZ545       NaN"
            ]
          },
          "metadata": {},
          "execution_count": 74
        }
      ]
    },
    {
      "cell_type": "code",
      "metadata": {
        "colab": {
          "base_uri": "https://localhost:8080/"
        },
        "id": "yLim9og6ibLQ",
        "outputId": "e7c44d92-a095-444b-f7b4-c877c047fa95"
      },
      "source": [
        "train.info()"
      ],
      "execution_count": null,
      "outputs": [
        {
          "output_type": "stream",
          "name": "stdout",
          "text": [
            "<class 'pandas.core.frame.DataFrame'>\n",
            "RangeIndex: 1568 entries, 0 to 1567\n",
            "Data columns (total 27 columns):\n",
            " #   Column                   Non-Null Count  Dtype  \n",
            "---  ------                   --------------  -----  \n",
            " 0   ID                       1568 non-null   object \n",
            " 1   Year_of_Birth            1568 non-null   int64  \n",
            " 2   Education_Level          1568 non-null   object \n",
            " 3   Marital_Status           1568 non-null   object \n",
            " 4   Disposable_Income        1552 non-null   float64\n",
            " 5   No_of_Kids_in_home       1568 non-null   int64  \n",
            " 6   No_of_Teen_in_home       1568 non-null   int64  \n",
            " 7   Date_Customer            1568 non-null   object \n",
            " 8   Recency                  1568 non-null   int64  \n",
            " 9   Discounted_Purchases     1568 non-null   int64  \n",
            " 10  WebPurchases             1568 non-null   int64  \n",
            " 11  CatalogPurchases         1568 non-null   int64  \n",
            " 12  StorePurchases           1568 non-null   int64  \n",
            " 13  Amount_on_Wines          1568 non-null   int64  \n",
            " 14  Amount_on_Fruits         1568 non-null   int64  \n",
            " 15  Amount_on_MeatProducts   1568 non-null   int64  \n",
            " 16  Amount_on_FishProducts   1568 non-null   int64  \n",
            " 17  Amount_on_SweetProducts  1568 non-null   int64  \n",
            " 18  Amount_on_GoldProds      1568 non-null   int64  \n",
            " 19  WebVisitsMonth           1568 non-null   int64  \n",
            " 20  Cmp3Accepted             1568 non-null   int64  \n",
            " 21  Cmp4Accepted             1568 non-null   int64  \n",
            " 22  Cmp5Accepted             1568 non-null   int64  \n",
            " 23  Cmp1Accepted             1568 non-null   int64  \n",
            " 24  Cmp2Accepted             1568 non-null   int64  \n",
            " 25  Any_Complain             1568 non-null   int64  \n",
            " 26  Response                 1568 non-null   int64  \n",
            "dtypes: float64(1), int64(22), object(4)\n",
            "memory usage: 330.9+ KB\n"
          ]
        }
      ]
    },
    {
      "cell_type": "code",
      "metadata": {
        "colab": {
          "base_uri": "https://localhost:8080/",
          "height": 310
        },
        "id": "mmovQCIAidt1",
        "outputId": "d339b15b-b6de-4524-b1cd-c8fd29a40f8b"
      },
      "source": [
        "train.describe()"
      ],
      "execution_count": null,
      "outputs": [
        {
          "output_type": "execute_result",
          "data": {
            "text/html": [
              "<div>\n",
              "<style scoped>\n",
              "    .dataframe tbody tr th:only-of-type {\n",
              "        vertical-align: middle;\n",
              "    }\n",
              "\n",
              "    .dataframe tbody tr th {\n",
              "        vertical-align: top;\n",
              "    }\n",
              "\n",
              "    .dataframe thead th {\n",
              "        text-align: right;\n",
              "    }\n",
              "</style>\n",
              "<table border=\"1\" class=\"dataframe\">\n",
              "  <thead>\n",
              "    <tr style=\"text-align: right;\">\n",
              "      <th></th>\n",
              "      <th>Year_of_Birth</th>\n",
              "      <th>Disposable_Income</th>\n",
              "      <th>No_of_Kids_in_home</th>\n",
              "      <th>No_of_Teen_in_home</th>\n",
              "      <th>Recency</th>\n",
              "      <th>Discounted_Purchases</th>\n",
              "      <th>WebPurchases</th>\n",
              "      <th>CatalogPurchases</th>\n",
              "      <th>StorePurchases</th>\n",
              "      <th>Amount_on_Wines</th>\n",
              "      <th>Amount_on_Fruits</th>\n",
              "      <th>Amount_on_MeatProducts</th>\n",
              "      <th>Amount_on_FishProducts</th>\n",
              "      <th>Amount_on_SweetProducts</th>\n",
              "      <th>Amount_on_GoldProds</th>\n",
              "      <th>WebVisitsMonth</th>\n",
              "      <th>Cmp3Accepted</th>\n",
              "      <th>Cmp4Accepted</th>\n",
              "      <th>Cmp5Accepted</th>\n",
              "      <th>Cmp1Accepted</th>\n",
              "      <th>Cmp2Accepted</th>\n",
              "      <th>Any_Complain</th>\n",
              "      <th>Response</th>\n",
              "    </tr>\n",
              "  </thead>\n",
              "  <tbody>\n",
              "    <tr>\n",
              "      <th>count</th>\n",
              "      <td>1568.000000</td>\n",
              "      <td>1552.000000</td>\n",
              "      <td>1568.000000</td>\n",
              "      <td>1568.000000</td>\n",
              "      <td>1568.000000</td>\n",
              "      <td>1568.000000</td>\n",
              "      <td>1568.000000</td>\n",
              "      <td>1568.000000</td>\n",
              "      <td>1568.000000</td>\n",
              "      <td>1568.000000</td>\n",
              "      <td>1568.000000</td>\n",
              "      <td>1568.000000</td>\n",
              "      <td>1568.000000</td>\n",
              "      <td>1568.000000</td>\n",
              "      <td>1568.000000</td>\n",
              "      <td>1568.000000</td>\n",
              "      <td>1568.000000</td>\n",
              "      <td>1568.000000</td>\n",
              "      <td>1568.000000</td>\n",
              "      <td>1568.000000</td>\n",
              "      <td>1568.000000</td>\n",
              "      <td>1568.000000</td>\n",
              "      <td>1568.000000</td>\n",
              "    </tr>\n",
              "    <tr>\n",
              "      <th>mean</th>\n",
              "      <td>1970.073342</td>\n",
              "      <td>62381.186598</td>\n",
              "      <td>0.460459</td>\n",
              "      <td>0.497449</td>\n",
              "      <td>55.408801</td>\n",
              "      <td>2.292730</td>\n",
              "      <td>4.001276</td>\n",
              "      <td>2.665816</td>\n",
              "      <td>5.703444</td>\n",
              "      <td>303.190051</td>\n",
              "      <td>29.091199</td>\n",
              "      <td>168.376276</td>\n",
              "      <td>37.166454</td>\n",
              "      <td>26.800383</td>\n",
              "      <td>43.739158</td>\n",
              "      <td>5.326531</td>\n",
              "      <td>0.072704</td>\n",
              "      <td>0.072704</td>\n",
              "      <td>0.080357</td>\n",
              "      <td>0.064413</td>\n",
              "      <td>0.012755</td>\n",
              "      <td>0.008291</td>\n",
              "      <td>0.152423</td>\n",
              "    </tr>\n",
              "    <tr>\n",
              "      <th>std</th>\n",
              "      <td>11.920781</td>\n",
              "      <td>32089.169563</td>\n",
              "      <td>0.540361</td>\n",
              "      <td>0.544151</td>\n",
              "      <td>28.788037</td>\n",
              "      <td>1.937544</td>\n",
              "      <td>2.773748</td>\n",
              "      <td>3.043493</td>\n",
              "      <td>3.260553</td>\n",
              "      <td>340.141396</td>\n",
              "      <td>39.565637</td>\n",
              "      <td>233.419980</td>\n",
              "      <td>53.994951</td>\n",
              "      <td>40.857657</td>\n",
              "      <td>51.591557</td>\n",
              "      <td>2.468023</td>\n",
              "      <td>0.259733</td>\n",
              "      <td>0.259733</td>\n",
              "      <td>0.271932</td>\n",
              "      <td>0.245566</td>\n",
              "      <td>0.112252</td>\n",
              "      <td>0.090705</td>\n",
              "      <td>0.359546</td>\n",
              "    </tr>\n",
              "    <tr>\n",
              "      <th>min</th>\n",
              "      <td>1900.000000</td>\n",
              "      <td>2076.000000</td>\n",
              "      <td>0.000000</td>\n",
              "      <td>0.000000</td>\n",
              "      <td>7.000000</td>\n",
              "      <td>0.000000</td>\n",
              "      <td>0.000000</td>\n",
              "      <td>0.000000</td>\n",
              "      <td>0.000000</td>\n",
              "      <td>5.000000</td>\n",
              "      <td>3.000000</td>\n",
              "      <td>0.000000</td>\n",
              "      <td>0.000000</td>\n",
              "      <td>0.000000</td>\n",
              "      <td>0.000000</td>\n",
              "      <td>0.000000</td>\n",
              "      <td>0.000000</td>\n",
              "      <td>0.000000</td>\n",
              "      <td>0.000000</td>\n",
              "      <td>0.000000</td>\n",
              "      <td>0.000000</td>\n",
              "      <td>0.000000</td>\n",
              "      <td>0.000000</td>\n",
              "    </tr>\n",
              "    <tr>\n",
              "      <th>25%</th>\n",
              "      <td>1960.000000</td>\n",
              "      <td>41612.400000</td>\n",
              "      <td>0.000000</td>\n",
              "      <td>0.000000</td>\n",
              "      <td>31.000000</td>\n",
              "      <td>1.000000</td>\n",
              "      <td>2.000000</td>\n",
              "      <td>0.000000</td>\n",
              "      <td>3.000000</td>\n",
              "      <td>27.000000</td>\n",
              "      <td>4.000000</td>\n",
              "      <td>15.000000</td>\n",
              "      <td>3.000000</td>\n",
              "      <td>1.000000</td>\n",
              "      <td>8.000000</td>\n",
              "      <td>3.000000</td>\n",
              "      <td>0.000000</td>\n",
              "      <td>0.000000</td>\n",
              "      <td>0.000000</td>\n",
              "      <td>0.000000</td>\n",
              "      <td>0.000000</td>\n",
              "      <td>0.000000</td>\n",
              "      <td>0.000000</td>\n",
              "    </tr>\n",
              "    <tr>\n",
              "      <th>50%</th>\n",
              "      <td>1971.000000</td>\n",
              "      <td>60964.200000</td>\n",
              "      <td>0.000000</td>\n",
              "      <td>0.000000</td>\n",
              "      <td>56.000000</td>\n",
              "      <td>2.000000</td>\n",
              "      <td>3.000000</td>\n",
              "      <td>2.000000</td>\n",
              "      <td>5.000000</td>\n",
              "      <td>167.000000</td>\n",
              "      <td>11.000000</td>\n",
              "      <td>64.000000</td>\n",
              "      <td>12.000000</td>\n",
              "      <td>8.000000</td>\n",
              "      <td>25.000000</td>\n",
              "      <td>6.000000</td>\n",
              "      <td>0.000000</td>\n",
              "      <td>0.000000</td>\n",
              "      <td>0.000000</td>\n",
              "      <td>0.000000</td>\n",
              "      <td>0.000000</td>\n",
              "      <td>0.000000</td>\n",
              "      <td>0.000000</td>\n",
              "    </tr>\n",
              "    <tr>\n",
              "      <th>75%</th>\n",
              "      <td>1979.000000</td>\n",
              "      <td>81493.200000</td>\n",
              "      <td>1.000000</td>\n",
              "      <td>1.000000</td>\n",
              "      <td>80.000000</td>\n",
              "      <td>3.000000</td>\n",
              "      <td>6.000000</td>\n",
              "      <td>4.000000</td>\n",
              "      <td>8.000000</td>\n",
              "      <td>499.500000</td>\n",
              "      <td>36.000000</td>\n",
              "      <td>232.000000</td>\n",
              "      <td>49.250000</td>\n",
              "      <td>33.000000</td>\n",
              "      <td>56.000000</td>\n",
              "      <td>7.000000</td>\n",
              "      <td>0.000000</td>\n",
              "      <td>0.000000</td>\n",
              "      <td>0.000000</td>\n",
              "      <td>0.000000</td>\n",
              "      <td>0.000000</td>\n",
              "      <td>0.000000</td>\n",
              "      <td>0.000000</td>\n",
              "    </tr>\n",
              "    <tr>\n",
              "      <th>max</th>\n",
              "      <td>1997.000000</td>\n",
              "      <td>799999.200000</td>\n",
              "      <td>2.000000</td>\n",
              "      <td>2.000000</td>\n",
              "      <td>106.000000</td>\n",
              "      <td>15.000000</td>\n",
              "      <td>27.000000</td>\n",
              "      <td>28.000000</td>\n",
              "      <td>13.000000</td>\n",
              "      <td>1498.000000</td>\n",
              "      <td>202.000000</td>\n",
              "      <td>1725.000000</td>\n",
              "      <td>259.000000</td>\n",
              "      <td>263.000000</td>\n",
              "      <td>362.000000</td>\n",
              "      <td>20.000000</td>\n",
              "      <td>1.000000</td>\n",
              "      <td>1.000000</td>\n",
              "      <td>1.000000</td>\n",
              "      <td>1.000000</td>\n",
              "      <td>1.000000</td>\n",
              "      <td>1.000000</td>\n",
              "      <td>1.000000</td>\n",
              "    </tr>\n",
              "  </tbody>\n",
              "</table>\n",
              "</div>"
            ],
            "text/plain": [
              "       Year_of_Birth  Disposable_Income  No_of_Kids_in_home  \\\n",
              "count    1568.000000        1552.000000         1568.000000   \n",
              "mean     1970.073342       62381.186598            0.460459   \n",
              "std        11.920781       32089.169563            0.540361   \n",
              "min      1900.000000        2076.000000            0.000000   \n",
              "25%      1960.000000       41612.400000            0.000000   \n",
              "50%      1971.000000       60964.200000            0.000000   \n",
              "75%      1979.000000       81493.200000            1.000000   \n",
              "max      1997.000000      799999.200000            2.000000   \n",
              "\n",
              "       No_of_Teen_in_home      Recency  Discounted_Purchases  WebPurchases  \\\n",
              "count         1568.000000  1568.000000           1568.000000   1568.000000   \n",
              "mean             0.497449    55.408801              2.292730      4.001276   \n",
              "std              0.544151    28.788037              1.937544      2.773748   \n",
              "min              0.000000     7.000000              0.000000      0.000000   \n",
              "25%              0.000000    31.000000              1.000000      2.000000   \n",
              "50%              0.000000    56.000000              2.000000      3.000000   \n",
              "75%              1.000000    80.000000              3.000000      6.000000   \n",
              "max              2.000000   106.000000             15.000000     27.000000   \n",
              "\n",
              "       CatalogPurchases  StorePurchases  Amount_on_Wines  Amount_on_Fruits  \\\n",
              "count       1568.000000     1568.000000      1568.000000       1568.000000   \n",
              "mean           2.665816        5.703444       303.190051         29.091199   \n",
              "std            3.043493        3.260553       340.141396         39.565637   \n",
              "min            0.000000        0.000000         5.000000          3.000000   \n",
              "25%            0.000000        3.000000        27.000000          4.000000   \n",
              "50%            2.000000        5.000000       167.000000         11.000000   \n",
              "75%            4.000000        8.000000       499.500000         36.000000   \n",
              "max           28.000000       13.000000      1498.000000        202.000000   \n",
              "\n",
              "       Amount_on_MeatProducts  Amount_on_FishProducts  \\\n",
              "count             1568.000000             1568.000000   \n",
              "mean               168.376276               37.166454   \n",
              "std                233.419980               53.994951   \n",
              "min                  0.000000                0.000000   \n",
              "25%                 15.000000                3.000000   \n",
              "50%                 64.000000               12.000000   \n",
              "75%                232.000000               49.250000   \n",
              "max               1725.000000              259.000000   \n",
              "\n",
              "       Amount_on_SweetProducts  Amount_on_GoldProds  WebVisitsMonth  \\\n",
              "count              1568.000000          1568.000000     1568.000000   \n",
              "mean                 26.800383            43.739158        5.326531   \n",
              "std                  40.857657            51.591557        2.468023   \n",
              "min                   0.000000             0.000000        0.000000   \n",
              "25%                   1.000000             8.000000        3.000000   \n",
              "50%                   8.000000            25.000000        6.000000   \n",
              "75%                  33.000000            56.000000        7.000000   \n",
              "max                 263.000000           362.000000       20.000000   \n",
              "\n",
              "       Cmp3Accepted  Cmp4Accepted  Cmp5Accepted  Cmp1Accepted  Cmp2Accepted  \\\n",
              "count   1568.000000   1568.000000   1568.000000   1568.000000   1568.000000   \n",
              "mean       0.072704      0.072704      0.080357      0.064413      0.012755   \n",
              "std        0.259733      0.259733      0.271932      0.245566      0.112252   \n",
              "min        0.000000      0.000000      0.000000      0.000000      0.000000   \n",
              "25%        0.000000      0.000000      0.000000      0.000000      0.000000   \n",
              "50%        0.000000      0.000000      0.000000      0.000000      0.000000   \n",
              "75%        0.000000      0.000000      0.000000      0.000000      0.000000   \n",
              "max        1.000000      1.000000      1.000000      1.000000      1.000000   \n",
              "\n",
              "       Any_Complain     Response  \n",
              "count   1568.000000  1568.000000  \n",
              "mean       0.008291     0.152423  \n",
              "std        0.090705     0.359546  \n",
              "min        0.000000     0.000000  \n",
              "25%        0.000000     0.000000  \n",
              "50%        0.000000     0.000000  \n",
              "75%        0.000000     0.000000  \n",
              "max        1.000000     1.000000  "
            ]
          },
          "metadata": {},
          "execution_count": 78
        }
      ]
    },
    {
      "cell_type": "markdown",
      "metadata": {
        "id": "oGWyhku1kPoi"
      },
      "source": [
        "## Target Column"
      ]
    },
    {
      "cell_type": "code",
      "metadata": {
        "colab": {
          "base_uri": "https://localhost:8080/",
          "height": 577
        },
        "id": "OU3JJSFukLEo",
        "outputId": "7cfc286e-25a0-4016-f2ba-27ae50d4c306"
      },
      "source": [
        "plt.figure (figsize= (10,8), tight_layout= True)\n",
        "plt.title ('Response Unique Counts')\n",
        "plt.rc('grid', c ='r', ls ='-', lw = 0.5)  # gridstyle\n",
        "plt.rc('axes', titlesize=18)               # axes title fontsize\n",
        "plt.rc('axes', labelsize=14)               # x and y labels fontsize\n",
        "plt.rc('xtick', labelsize=14)              # fontsize of the tick labels\n",
        "plt.rc('ytick', labelsize=14)              # fontsize of the tick labels\n",
        "plt.rc('legend', fontsize=14)              # legend fontsize\n",
        "plt.rc('font', size=14)                    # modify text sizes\n",
        "sns.countplot(train['Response'], label = 'counts', palette= 'dark' )\n",
        "plt.show()\n"
      ],
      "execution_count": null,
      "outputs": [
        {
          "output_type": "display_data",
          "data": {
            "image/png": "[encoded data removed]",
            "text/plain": [
              "<Figure size 720x576 with 1 Axes>"
            ]
          },
          "metadata": {}
        }
      ]
    },
    {
      "cell_type": "markdown",
      "metadata": {
        "id": "bmKY_ukQkc5a"
      },
      "source": [
        "## Checking Feature Correlation"
      ]
    },
    {
      "cell_type": "code",
      "metadata": {
        "colab": {
          "base_uri": "https://localhost:8080/",
          "height": 1000
        },
        "id": "8t21fRKHkbt5",
        "outputId": "6a6759fd-5bd5-450a-f768-32af47a8e2dc"
      },
      "source": [
        "plt.figure(figsize=(22, 16))\n",
        "heatmap = sns.heatmap(train.corr(), vmin=-1, vmax=1, annot=True, linewidth= 0.5, cmap= 'flare') ### checking the correlation between the features\n",
        "heatmap.set_title('Correlation Heatmap', fontdict={'fontsize':10}, pad=12);\n",
        "plt.show()"
      ],
      "execution_count": null,
      "outputs": [
        {
          "output_type": "display_data",
          "data": {
            "image/png": "[encoded data removed]",
            "text/plain": [
              "<Figure size 1584x1152 with 2 Axes>"
            ]
          },
          "metadata": {}
        }
      ]
    },
    {
      "cell_type": "markdown",
      "metadata": {
        "id": "_BhP_JVJiFuF"
      },
      "source": [
        "# Data Cleaning"
      ]
    },
    {
      "cell_type": "code",
      "metadata": {
        "colab": {
          "base_uri": "https://localhost:8080/"
        },
        "id": "kbULbhUVjKvu",
        "outputId": "9374a643-1177-4f72-97d9-c3ff1bfcec08"
      },
      "source": [
        "train.isna().sum()"
      ],
      "execution_count": null,
      "outputs": [
        {
          "output_type": "execute_result",
          "data": {
            "text/plain": [
              "ID                          0\n",
              "Year_of_Birth               0\n",
              "Education_Level             0\n",
              "Marital_Status              0\n",
              "Disposable_Income          16\n",
              "No_of_Kids_in_home          0\n",
              "No_of_Teen_in_home          0\n",
              "Date_Customer               0\n",
              "Recency                     0\n",
              "Discounted_Purchases        0\n",
              "WebPurchases                0\n",
              "CatalogPurchases            0\n",
              "StorePurchases              0\n",
              "Amount_on_Wines             0\n",
              "Amount_on_Fruits            0\n",
              "Amount_on_MeatProducts      0\n",
              "Amount_on_FishProducts      0\n",
              "Amount_on_SweetProducts     0\n",
              "Amount_on_GoldProds         0\n",
              "WebVisitsMonth              0\n",
              "Cmp3Accepted                0\n",
              "Cmp4Accepted                0\n",
              "Cmp5Accepted                0\n",
              "Cmp1Accepted                0\n",
              "Cmp2Accepted                0\n",
              "Any_Complain                0\n",
              "Response                    0\n",
              "dtype: int64"
            ]
          },
          "metadata": {},
          "execution_count": 84
        }
      ]
    },
    {
      "cell_type": "code",
      "metadata": {
        "colab": {
          "base_uri": "https://localhost:8080/",
          "height": 277
        },
        "id": "x8vgXgbHjp_j",
        "outputId": "18e79b9a-3a3e-4c16-adc9-0f395d335e2b"
      },
      "source": [
        "# median income looks like an imp feature\n",
        "\n",
        "train['Disposable_Income'].hist()"
      ],
      "execution_count": null,
      "outputs": [
        {
          "output_type": "execute_result",
          "data": {
            "text/plain": [
              "<matplotlib.axes._subplots.AxesSubplot at 0x7faa59827790>"
            ]
          },
          "metadata": {},
          "execution_count": 85
        },
        {
          "output_type": "display_data",
          "data": {
            "image/png": "[encoded data removed]",
            "text/plain": [
              "<Figure size 432x288 with 1 Axes>"
            ]
          },
          "metadata": {}
        }
      ]
    },
    {
      "cell_type": "code",
      "metadata": {
        "id": "zl3FXdJqKIcP"
      },
      "source": [
        "past_yr= train[train['Year_of_Birth']<1940].index\n",
        "train.drop(past_yr, axis=0, inplace=True)\n",
        "train.reset_index(drop=True, inplace=True)"
      ],
      "execution_count": null,
      "outputs": []
    },
    {
      "cell_type": "code",
      "metadata": {
        "id": "iK-zE0ceKIcQ"
      },
      "source": [
        "len_train = len(train)\n",
        "df = pd.concat([train, test]).reset_index(drop=True)"
      ],
      "execution_count": null,
      "outputs": []
    },
    {
      "cell_type": "code",
      "metadata": {
        "id": "rgoe6zhrKIcR"
      },
      "source": [
        "df['Disposable_Income'] = df['Disposable_Income'].fillna(train['Disposable_Income'].median())"
      ],
      "execution_count": null,
      "outputs": []
    },
    {
      "cell_type": "markdown",
      "metadata": {
        "id": "O21HOzKGjPP_"
      },
      "source": [
        "## Dealing with DATETIME"
      ]
    },
    {
      "cell_type": "code",
      "metadata": {
        "id": "_Fy9Nk-7KIcS"
      },
      "source": [
        "df['Date_Customer'] = pd.to_datetime(df['Date_Customer'])\n",
        "\n",
        "df['enrollment_year'] = df['Date_Customer'].dt.year\n",
        "df['enrollment_month'] = df['Date_Customer'].dt.month\n",
        "df['enrollment_day'] = df['Date_Customer'].dt.day"
      ],
      "execution_count": null,
      "outputs": []
    },
    {
      "cell_type": "code",
      "metadata": {
        "colab": {
          "base_uri": "https://localhost:8080/",
          "height": 158
        },
        "id": "I5fo5WqJKIcU",
        "outputId": "4bd24bce-1c73-4d66-9aa0-fec5810d3b60"
      },
      "source": [
        "df.head(3)"
      ],
      "execution_count": null,
      "outputs": [
        {
          "output_type": "execute_result",
          "data": {
            "text/html": [
              "<div>\n",
              "<style scoped>\n",
              "    .dataframe tbody tr th:only-of-type {\n",
              "        vertical-align: middle;\n",
              "    }\n",
              "\n",
              "    .dataframe tbody tr th {\n",
              "        vertical-align: top;\n",
              "    }\n",
              "\n",
              "    .dataframe thead th {\n",
              "        text-align: right;\n",
              "    }\n",
              "</style>\n",
              "<table border=\"1\" class=\"dataframe\">\n",
              "  <thead>\n",
              "    <tr style=\"text-align: right;\">\n",
              "      <th></th>\n",
              "      <th>ID</th>\n",
              "      <th>Year_of_Birth</th>\n",
              "      <th>Education_Level</th>\n",
              "      <th>Marital_Status</th>\n",
              "      <th>Disposable_Income</th>\n",
              "      <th>No_of_Kids_in_home</th>\n",
              "      <th>No_of_Teen_in_home</th>\n",
              "      <th>Date_Customer</th>\n",
              "      <th>Recency</th>\n",
              "      <th>Discounted_Purchases</th>\n",
              "      <th>WebPurchases</th>\n",
              "      <th>CatalogPurchases</th>\n",
              "      <th>StorePurchases</th>\n",
              "      <th>Amount_on_Wines</th>\n",
              "      <th>Amount_on_Fruits</th>\n",
              "      <th>Amount_on_MeatProducts</th>\n",
              "      <th>Amount_on_FishProducts</th>\n",
              "      <th>Amount_on_SweetProducts</th>\n",
              "      <th>Amount_on_GoldProds</th>\n",
              "      <th>WebVisitsMonth</th>\n",
              "      <th>Cmp3Accepted</th>\n",
              "      <th>Cmp4Accepted</th>\n",
              "      <th>Cmp5Accepted</th>\n",
              "      <th>Cmp1Accepted</th>\n",
              "      <th>Cmp2Accepted</th>\n",
              "      <th>Any_Complain</th>\n",
              "      <th>Response</th>\n",
              "      <th>enrollment_year</th>\n",
              "      <th>enrollment_month</th>\n",
              "      <th>enrollment_day</th>\n",
              "    </tr>\n",
              "  </thead>\n",
              "  <tbody>\n",
              "    <tr>\n",
              "      <th>0</th>\n",
              "      <td>ID_4A9AR6FQ</td>\n",
              "      <td>1955</td>\n",
              "      <td>2</td>\n",
              "      <td>2</td>\n",
              "      <td>77504.4</td>\n",
              "      <td>1</td>\n",
              "      <td>1</td>\n",
              "      <td>2014-06-22</td>\n",
              "      <td>56</td>\n",
              "      <td>2</td>\n",
              "      <td>1</td>\n",
              "      <td>1</td>\n",
              "      <td>4</td>\n",
              "      <td>71</td>\n",
              "      <td>3</td>\n",
              "      <td>16</td>\n",
              "      <td>0</td>\n",
              "      <td>6</td>\n",
              "      <td>20</td>\n",
              "      <td>3</td>\n",
              "      <td>0</td>\n",
              "      <td>0</td>\n",
              "      <td>0</td>\n",
              "      <td>0</td>\n",
              "      <td>0</td>\n",
              "      <td>0</td>\n",
              "      <td>0.0</td>\n",
              "      <td>2014</td>\n",
              "      <td>6</td>\n",
              "      <td>22</td>\n",
              "    </tr>\n",
              "    <tr>\n",
              "      <th>1</th>\n",
              "      <td>ID_X28T3VEK</td>\n",
              "      <td>1958</td>\n",
              "      <td>2</td>\n",
              "      <td>5</td>\n",
              "      <td>56784.0</td>\n",
              "      <td>0</td>\n",
              "      <td>1</td>\n",
              "      <td>2013-01-08</td>\n",
              "      <td>17</td>\n",
              "      <td>6</td>\n",
              "      <td>5</td>\n",
              "      <td>1</td>\n",
              "      <td>8</td>\n",
              "      <td>205</td>\n",
              "      <td>22</td>\n",
              "      <td>111</td>\n",
              "      <td>50</td>\n",
              "      <td>15</td>\n",
              "      <td>19</td>\n",
              "      <td>6</td>\n",
              "      <td>0</td>\n",
              "      <td>0</td>\n",
              "      <td>0</td>\n",
              "      <td>0</td>\n",
              "      <td>0</td>\n",
              "      <td>0</td>\n",
              "      <td>0.0</td>\n",
              "      <td>2013</td>\n",
              "      <td>1</td>\n",
              "      <td>8</td>\n",
              "    </tr>\n",
              "    <tr>\n",
              "      <th>2</th>\n",
              "      <td>ID_AWXARH57</td>\n",
              "      <td>1962</td>\n",
              "      <td>2</td>\n",
              "      <td>4</td>\n",
              "      <td>103714.8</td>\n",
              "      <td>0</td>\n",
              "      <td>0</td>\n",
              "      <td>2013-11-21</td>\n",
              "      <td>17</td>\n",
              "      <td>0</td>\n",
              "      <td>7</td>\n",
              "      <td>4</td>\n",
              "      <td>7</td>\n",
              "      <td>469</td>\n",
              "      <td>31</td>\n",
              "      <td>873</td>\n",
              "      <td>29</td>\n",
              "      <td>18</td>\n",
              "      <td>37</td>\n",
              "      <td>2</td>\n",
              "      <td>0</td>\n",
              "      <td>0</td>\n",
              "      <td>0</td>\n",
              "      <td>1</td>\n",
              "      <td>0</td>\n",
              "      <td>0</td>\n",
              "      <td>1.0</td>\n",
              "      <td>2013</td>\n",
              "      <td>11</td>\n",
              "      <td>21</td>\n",
              "    </tr>\n",
              "  </tbody>\n",
              "</table>\n",
              "</div>"
            ],
            "text/plain": [
              "            ID  Year_of_Birth  Education_Level  Marital_Status  \\\n",
              "0  ID_4A9AR6FQ           1955                2               2   \n",
              "1  ID_X28T3VEK           1958                2               5   \n",
              "2  ID_AWXARH57           1962                2               4   \n",
              "\n",
              "   Disposable_Income  No_of_Kids_in_home  No_of_Teen_in_home Date_Customer  \\\n",
              "0            77504.4                   1                   1    2014-06-22   \n",
              "1            56784.0                   0                   1    2013-01-08   \n",
              "2           103714.8                   0                   0    2013-11-21   \n",
              "\n",
              "   Recency  Discounted_Purchases  WebPurchases  CatalogPurchases  \\\n",
              "0       56                     2             1                 1   \n",
              "1       17                     6             5                 1   \n",
              "2       17                     0             7                 4   \n",
              "\n",
              "   StorePurchases  Amount_on_Wines  Amount_on_Fruits  Amount_on_MeatProducts  \\\n",
              "0               4               71                 3                      16   \n",
              "1               8              205                22                     111   \n",
              "2               7              469                31                     873   \n",
              "\n",
              "   Amount_on_FishProducts  Amount_on_SweetProducts  Amount_on_GoldProds  \\\n",
              "0                       0                        6                   20   \n",
              "1                      50                       15                   19   \n",
              "2                      29                       18                   37   \n",
              "\n",
              "   WebVisitsMonth  Cmp3Accepted  Cmp4Accepted  Cmp5Accepted  Cmp1Accepted  \\\n",
              "0               3             0             0             0             0   \n",
              "1               6             0             0             0             0   \n",
              "2               2             0             0             0             1   \n",
              "\n",
              "   Cmp2Accepted  Any_Complain  Response  enrollment_year  enrollment_month  \\\n",
              "0             0             0       0.0             2014                 6   \n",
              "1             0             0       0.0             2013                 1   \n",
              "2             0             0       1.0             2013                11   \n",
              "\n",
              "   enrollment_day  \n",
              "0              22  \n",
              "1               8  \n",
              "2              21  "
            ]
          },
          "metadata": {},
          "execution_count": 75
        }
      ]
    },
    {
      "cell_type": "markdown",
      "metadata": {
        "id": "LN5OIKd1jWCh"
      },
      "source": [
        "## ENCODING THE CATEGORICAL COLUMN"
      ]
    },
    {
      "cell_type": "code",
      "metadata": {
        "id": "1boaq2VUKIcV"
      },
      "source": [
        "categorical_col = ['Education_Level','Marital_Status']\n",
        "\n",
        "for i in categorical_col:\n",
        "    le = LabelEncoder()\n",
        "    df[i] = le.fit_transform(df[i])"
      ],
      "execution_count": null,
      "outputs": []
    },
    {
      "cell_type": "markdown",
      "metadata": {
        "id": "eEXQLsjfZx42"
      },
      "source": [
        "## Set X and y\n"
      ]
    },
    {
      "cell_type": "code",
      "metadata": {
        "id": "ehtViEUxKIcW"
      },
      "source": [
        "train = df[:len_train]\n",
        "test = df[len_train:]"
      ],
      "execution_count": null,
      "outputs": []
    },
    {
      "cell_type": "code",
      "metadata": {
        "id": "_eAAN1UUKIcX"
      },
      "source": [
        "X = train.drop(columns=['ID','Date_Customer','Response'])\n",
        "y = train['Response']\n",
        "test2 = test.drop(columns=['ID','Date_Customer','Response'])"
      ],
      "execution_count": null,
      "outputs": []
    },
    {
      "cell_type": "code",
      "metadata": {
        "colab": {
          "base_uri": "https://localhost:8080/"
        },
        "id": "ptAVYT6sKIcY",
        "outputId": "33ea139d-1d84-47f8-e3c4-e4dbda8d525d"
      },
      "source": [
        "y.value_counts()"
      ],
      "execution_count": null,
      "outputs": [
        {
          "output_type": "execute_result",
          "data": {
            "text/plain": [
              "0.0    1328\n",
              "1.0     239\n",
              "Name: Response, dtype: int64"
            ]
          },
          "metadata": {},
          "execution_count": 13
        }
      ]
    },
    {
      "cell_type": "markdown",
      "metadata": {
        "id": "jtuItNLgdZdl"
      },
      "source": [
        "## Normalization"
      ]
    },
    {
      "cell_type": "code",
      "metadata": {
        "id": "m1Ek2tE5dY-v"
      },
      "source": [
        "#instantitiate standard scaler.\n",
        "\n",
        "scaler = StandardScaler()\n",
        "X= scaler.fit_transform(X)"
      ],
      "execution_count": null,
      "outputs": []
    },
    {
      "cell_type": "code",
      "metadata": {
        "id": "mv_9zMN4dgh7"
      },
      "source": [
        "test2 = scaler.fit_transform(test2)"
      ],
      "execution_count": null,
      "outputs": []
    },
    {
      "cell_type": "markdown",
      "metadata": {
        "id": "EGDn0yWAZ6M3"
      },
      "source": [
        "## Split into train and test"
      ]
    },
    {
      "cell_type": "code",
      "metadata": {
        "id": "KZ6JA0zxZWqJ"
      },
      "source": [
        "X_train,X_test,y_train,y_test = train_test_split(X,y,test_size=0.2, random_state=42)"
      ],
      "execution_count": null,
      "outputs": []
    },
    {
      "cell_type": "markdown",
      "metadata": {
        "id": "8ojk5eD0XFlZ"
      },
      "source": [
        "## BASELINE MODEL"
      ]
    },
    {
      "cell_type": "markdown",
      "metadata": {
        "id": "esb7Ng_4XKGe"
      },
      "source": [
        "## Logistic Regression"
      ]
    },
    {
      "cell_type": "code",
      "metadata": {
        "colab": {
          "base_uri": "https://localhost:8080/"
        },
        "id": "qRtcrbPJccNT",
        "outputId": "77518d89-9315-489e-afe0-1ae32ea2f9f0"
      },
      "source": [
        "lr = LogisticRegression()\n",
        "lr.fit(X_train, y_train)"
      ],
      "execution_count": null,
      "outputs": [
        {
          "output_type": "execute_result",
          "data": {
            "text/plain": [
              "LogisticRegression(C=1.0, class_weight=None, dual=False, fit_intercept=True,\n",
              "                   intercept_scaling=1, l1_ratio=None, max_iter=100,\n",
              "                   multi_class='auto', n_jobs=None, penalty='l2',\n",
              "                   random_state=None, solver='lbfgs', tol=0.0001, verbose=0,\n",
              "                   warm_start=False)"
            ]
          },
          "metadata": {},
          "execution_count": 34
        }
      ]
    },
    {
      "cell_type": "code",
      "metadata": {
        "id": "9GbNU17DcnpZ"
      },
      "source": [
        "lr_pred = lr.predict(X_test)"
      ],
      "execution_count": null,
      "outputs": []
    },
    {
      "cell_type": "code",
      "metadata": {
        "colab": {
          "base_uri": "https://localhost:8080/"
        },
        "id": "yTDRohnnc90S",
        "outputId": "183b64bd-2409-47c1-a1da-86d4bcdeba29"
      },
      "source": [
        "f1_score(y_test, lr_pred, average= 'micro')"
      ],
      "execution_count": null,
      "outputs": [
        {
          "output_type": "execute_result",
          "data": {
            "text/plain": [
              "0.8853503184713376"
            ]
          },
          "metadata": {},
          "execution_count": 37
        }
      ]
    },
    {
      "cell_type": "code",
      "metadata": {
        "id": "oS1ZJeeEdFmj"
      },
      "source": [
        "submission= submission_file.copy()"
      ],
      "execution_count": null,
      "outputs": []
    },
    {
      "cell_type": "code",
      "metadata": {
        "id": "JaTEdfSrdmbq"
      },
      "source": [
        "submission_file.Response = lr.predict(test2)"
      ],
      "execution_count": null,
      "outputs": []
    },
    {
      "cell_type": "code",
      "metadata": {
        "id": "t542sKAkdutP"
      },
      "source": [
        "submission_file.to_csv('aSubmission.csv', index= False)"
      ],
      "execution_count": null,
      "outputs": []
    },
    {
      "cell_type": "markdown",
      "metadata": {
        "id": "2IkjMaYvd0vk"
      },
      "source": [
        "## Decision Trees"
      ]
    },
    {
      "cell_type": "code",
      "metadata": {
        "colab": {
          "base_uri": "https://localhost:8080/"
        },
        "id": "-IJ06I8bd45v",
        "outputId": "ab649a20-0f21-4870-b51b-2f2a651647c4"
      },
      "source": [
        "from sklearn.tree import DecisionTreeClassifier\n",
        "dc = DecisionTreeClassifier (criterion = 'entropy', random_state= 42)\n",
        "dc.fit (X_train, y_train)\n",
        "  "
      ],
      "execution_count": null,
      "outputs": [
        {
          "output_type": "execute_result",
          "data": {
            "text/plain": [
              "DecisionTreeClassifier(ccp_alpha=0.0, class_weight=None, criterion='entropy',\n",
              "                       max_depth=None, max_features=None, max_leaf_nodes=None,\n",
              "                       min_impurity_decrease=0.0, min_impurity_split=None,\n",
              "                       min_samples_leaf=1, min_samples_split=2,\n",
              "                       min_weight_fraction_leaf=0.0, presort='deprecated',\n",
              "                       random_state=42, splitter='best')"
            ]
          },
          "metadata": {},
          "execution_count": 41
        }
      ]
    },
    {
      "cell_type": "code",
      "metadata": {
        "id": "I7Or9Xf4d-_K"
      },
      "source": [
        "dc_pred = dc.predict(X_test)"
      ],
      "execution_count": null,
      "outputs": []
    },
    {
      "cell_type": "code",
      "metadata": {
        "colab": {
          "base_uri": "https://localhost:8080/"
        },
        "id": "jJ0fLGtoeCTU",
        "outputId": "eda3ddbf-a6c8-4ba7-8ce7-ddbe2bee65c6"
      },
      "source": [
        "f1_score(y_test, dc_pred, average= 'micro')"
      ],
      "execution_count": null,
      "outputs": [
        {
          "output_type": "execute_result",
          "data": {
            "text/plain": [
              "0.8184713375796179"
            ]
          },
          "metadata": {},
          "execution_count": 43
        }
      ]
    },
    {
      "cell_type": "code",
      "metadata": {
        "colab": {
          "base_uri": "https://localhost:8080/"
        },
        "id": "xmAQM-tLeKs9",
        "outputId": "d1c7235e-67ff-4b76-ad04-4351bc022043"
      },
      "source": [
        "accuracy_score(y_test, dc_pred)"
      ],
      "execution_count": null,
      "outputs": [
        {
          "output_type": "execute_result",
          "data": {
            "text/plain": [
              "0.8184713375796179"
            ]
          },
          "metadata": {},
          "execution_count": 44
        }
      ]
    },
    {
      "cell_type": "code",
      "metadata": {
        "id": "tqhaeBEAeRvx"
      },
      "source": [
        "submission_file.Response = dc.predict(test2)"
      ],
      "execution_count": null,
      "outputs": []
    },
    {
      "cell_type": "code",
      "metadata": {
        "id": "7pWNEtB-eSga"
      },
      "source": [
        "submission_file.to_csv('b_Submission.csv', index= False)"
      ],
      "execution_count": null,
      "outputs": []
    },
    {
      "cell_type": "markdown",
      "metadata": {
        "id": "D2xu_ozGeZnf"
      },
      "source": [
        "## CATBOOST"
      ]
    },
    {
      "cell_type": "code",
      "metadata": {
        "id": "yAFSnbFWeb-B"
      },
      "source": [
        "%%capture\n",
        "!pip install catboost"
      ],
      "execution_count": null,
      "outputs": []
    },
    {
      "cell_type": "code",
      "metadata": {
        "id": "un1MDRu1e74m"
      },
      "source": [
        "import lightgbm as lgb #install this library using pip install lgbm if you don't have it \n",
        "from catboost import CatBoostClassifier #Install this Library using pip install catboost, before importing if you don't have it "
      ],
      "execution_count": null,
      "outputs": []
    },
    {
      "cell_type": "code",
      "metadata": {
        "colab": {
          "base_uri": "https://localhost:8080/"
        },
        "id": "4AsrMkn2fChC",
        "outputId": "e0b969ba-9a00-4ebe-ee2c-5b922f3104bf"
      },
      "source": [
        "#Creating model \n",
        "cat_model=CatBoostClassifier()\n",
        "\n",
        "#Training Catboost Model on train set\n",
        "cat_model.fit(X_train,y_train)\n",
        "\n",
        "#Predictiing on Test Set\n",
        "y_pred_cat=cat_model.predict(X_test)\n",
        "\n",
        "#Evaluating model using f1_score\n",
        "print(\"Catboost F1 score on validation set is : \",f1_score(y_test,y_pred_cat))"
      ],
      "execution_count": null,
      "outputs": [
        {
          "output_type": "stream",
          "name": "stdout",
          "text": [
            "Learning rate set to 0.011344\n",
            "0:\tlearn: 0.6844833\ttotal: 50.5ms\tremaining: 50.5s\n",
            "1:\tlearn: 0.6754987\ttotal: 53.1ms\tremaining: 26.5s\n",
            "2:\tlearn: 0.6661370\ttotal: 55.4ms\tremaining: 18.4s\n",
            "3:\tlearn: 0.6559755\ttotal: 57.8ms\tremaining: 14.4s\n",
            "4:\tlearn: 0.6472463\ttotal: 60.1ms\tremaining: 12s\n",
            "5:\tlearn: 0.6400491\ttotal: 62.6ms\tremaining: 10.4s\n",
            "6:\tlearn: 0.6329147\ttotal: 64.9ms\tremaining: 9.21s\n",
            "7:\tlearn: 0.6244176\ttotal: 67.3ms\tremaining: 8.35s\n",
            "8:\tlearn: 0.6165950\ttotal: 69.8ms\tremaining: 7.68s\n",
            "9:\tlearn: 0.6086037\ttotal: 72.2ms\tremaining: 7.15s\n",
            "10:\tlearn: 0.6016568\ttotal: 74.6ms\tremaining: 6.7s\n",
            "11:\tlearn: 0.5934834\ttotal: 76.9ms\tremaining: 6.33s\n",
            "12:\tlearn: 0.5868059\ttotal: 79.4ms\tremaining: 6.03s\n",
            "13:\tlearn: 0.5806158\ttotal: 82ms\tremaining: 5.77s\n",
            "14:\tlearn: 0.5732766\ttotal: 84.6ms\tremaining: 5.55s\n",
            "15:\tlearn: 0.5667372\ttotal: 87.3ms\tremaining: 5.37s\n",
            "16:\tlearn: 0.5602580\ttotal: 89.8ms\tremaining: 5.19s\n",
            "17:\tlearn: 0.5530228\ttotal: 92.3ms\tremaining: 5.03s\n",
            "18:\tlearn: 0.5467697\ttotal: 94.9ms\tremaining: 4.9s\n",
            "19:\tlearn: 0.5416595\ttotal: 97.5ms\tremaining: 4.78s\n",
            "20:\tlearn: 0.5359687\ttotal: 100ms\tremaining: 4.67s\n",
            "21:\tlearn: 0.5311836\ttotal: 103ms\tremaining: 4.58s\n",
            "22:\tlearn: 0.5248185\ttotal: 106ms\tremaining: 4.49s\n",
            "23:\tlearn: 0.5191775\ttotal: 108ms\tremaining: 4.41s\n",
            "24:\tlearn: 0.5147098\ttotal: 111ms\tremaining: 4.33s\n",
            "25:\tlearn: 0.5099011\ttotal: 114ms\tremaining: 4.26s\n",
            "26:\tlearn: 0.5048644\ttotal: 116ms\tremaining: 4.19s\n",
            "27:\tlearn: 0.5003038\ttotal: 119ms\tremaining: 4.13s\n",
            "28:\tlearn: 0.4955045\ttotal: 122ms\tremaining: 4.08s\n",
            "29:\tlearn: 0.4912499\ttotal: 124ms\tremaining: 4.02s\n",
            "30:\tlearn: 0.4872159\ttotal: 127ms\tremaining: 3.97s\n",
            "31:\tlearn: 0.4820199\ttotal: 130ms\tremaining: 3.93s\n",
            "32:\tlearn: 0.4771869\ttotal: 133ms\tremaining: 3.89s\n",
            "33:\tlearn: 0.4726216\ttotal: 135ms\tremaining: 3.85s\n",
            "34:\tlearn: 0.4686443\ttotal: 138ms\tremaining: 3.81s\n",
            "35:\tlearn: 0.4640427\ttotal: 141ms\tremaining: 3.77s\n",
            "36:\tlearn: 0.4616517\ttotal: 142ms\tremaining: 3.69s\n",
            "37:\tlearn: 0.4582730\ttotal: 144ms\tremaining: 3.65s\n",
            "38:\tlearn: 0.4547486\ttotal: 147ms\tremaining: 3.62s\n",
            "39:\tlearn: 0.4512619\ttotal: 150ms\tremaining: 3.59s\n",
            "40:\tlearn: 0.4473223\ttotal: 152ms\tremaining: 3.56s\n",
            "41:\tlearn: 0.4426574\ttotal: 155ms\tremaining: 3.53s\n",
            "42:\tlearn: 0.4389546\ttotal: 157ms\tremaining: 3.5s\n",
            "43:\tlearn: 0.4353204\ttotal: 160ms\tremaining: 3.47s\n",
            "44:\tlearn: 0.4311340\ttotal: 163ms\tremaining: 3.45s\n",
            "45:\tlearn: 0.4281505\ttotal: 165ms\tremaining: 3.43s\n",
            "46:\tlearn: 0.4249677\ttotal: 168ms\tremaining: 3.41s\n",
            "47:\tlearn: 0.4211112\ttotal: 171ms\tremaining: 3.38s\n",
            "48:\tlearn: 0.4183761\ttotal: 173ms\tremaining: 3.36s\n",
            "49:\tlearn: 0.4149001\ttotal: 176ms\tremaining: 3.34s\n",
            "50:\tlearn: 0.4122491\ttotal: 179ms\tremaining: 3.32s\n",
            "51:\tlearn: 0.4088255\ttotal: 181ms\tremaining: 3.3s\n",
            "52:\tlearn: 0.4054592\ttotal: 184ms\tremaining: 3.29s\n",
            "53:\tlearn: 0.4024710\ttotal: 189ms\tremaining: 3.31s\n",
            "54:\tlearn: 0.3995641\ttotal: 194ms\tremaining: 3.33s\n",
            "55:\tlearn: 0.3968255\ttotal: 197ms\tremaining: 3.31s\n",
            "56:\tlearn: 0.3946252\ttotal: 199ms\tremaining: 3.29s\n",
            "57:\tlearn: 0.3923886\ttotal: 202ms\tremaining: 3.28s\n",
            "58:\tlearn: 0.3899554\ttotal: 204ms\tremaining: 3.26s\n",
            "59:\tlearn: 0.3879788\ttotal: 207ms\tremaining: 3.24s\n",
            "60:\tlearn: 0.3857791\ttotal: 211ms\tremaining: 3.25s\n",
            "61:\tlearn: 0.3834695\ttotal: 214ms\tremaining: 3.24s\n",
            "62:\tlearn: 0.3808472\ttotal: 217ms\tremaining: 3.22s\n",
            "63:\tlearn: 0.3780858\ttotal: 219ms\tremaining: 3.21s\n",
            "64:\tlearn: 0.3752429\ttotal: 222ms\tremaining: 3.19s\n",
            "65:\tlearn: 0.3724823\ttotal: 225ms\tremaining: 3.18s\n",
            "66:\tlearn: 0.3703444\ttotal: 227ms\tremaining: 3.16s\n",
            "67:\tlearn: 0.3676877\ttotal: 230ms\tremaining: 3.15s\n",
            "68:\tlearn: 0.3649766\ttotal: 233ms\tremaining: 3.14s\n",
            "69:\tlearn: 0.3632295\ttotal: 235ms\tremaining: 3.12s\n",
            "70:\tlearn: 0.3613397\ttotal: 238ms\tremaining: 3.11s\n",
            "71:\tlearn: 0.3596604\ttotal: 240ms\tremaining: 3.1s\n",
            "72:\tlearn: 0.3571989\ttotal: 243ms\tremaining: 3.09s\n",
            "73:\tlearn: 0.3557094\ttotal: 246ms\tremaining: 3.08s\n",
            "74:\tlearn: 0.3537759\ttotal: 248ms\tremaining: 3.06s\n",
            "75:\tlearn: 0.3523099\ttotal: 251ms\tremaining: 3.05s\n",
            "76:\tlearn: 0.3500714\ttotal: 254ms\tremaining: 3.04s\n",
            "77:\tlearn: 0.3483339\ttotal: 256ms\tremaining: 3.03s\n",
            "78:\tlearn: 0.3459677\ttotal: 259ms\tremaining: 3.02s\n",
            "79:\tlearn: 0.3440999\ttotal: 261ms\tremaining: 3s\n",
            "80:\tlearn: 0.3417181\ttotal: 264ms\tremaining: 3s\n",
            "81:\tlearn: 0.3401175\ttotal: 267ms\tremaining: 2.98s\n",
            "82:\tlearn: 0.3386324\ttotal: 269ms\tremaining: 2.97s\n",
            "83:\tlearn: 0.3369547\ttotal: 272ms\tremaining: 2.96s\n",
            "84:\tlearn: 0.3353771\ttotal: 274ms\tremaining: 2.95s\n",
            "85:\tlearn: 0.3338462\ttotal: 277ms\tremaining: 2.94s\n",
            "86:\tlearn: 0.3321913\ttotal: 283ms\tremaining: 2.96s\n",
            "87:\tlearn: 0.3302669\ttotal: 287ms\tremaining: 2.97s\n",
            "88:\tlearn: 0.3293983\ttotal: 289ms\tremaining: 2.96s\n",
            "89:\tlearn: 0.3280856\ttotal: 292ms\tremaining: 2.95s\n",
            "90:\tlearn: 0.3266640\ttotal: 295ms\tremaining: 2.94s\n",
            "91:\tlearn: 0.3250995\ttotal: 297ms\tremaining: 2.93s\n",
            "92:\tlearn: 0.3236832\ttotal: 300ms\tremaining: 2.92s\n",
            "93:\tlearn: 0.3224299\ttotal: 303ms\tremaining: 2.92s\n",
            "94:\tlearn: 0.3207613\ttotal: 305ms\tremaining: 2.91s\n",
            "95:\tlearn: 0.3193396\ttotal: 308ms\tremaining: 2.9s\n",
            "96:\tlearn: 0.3182134\ttotal: 311ms\tremaining: 2.89s\n",
            "97:\tlearn: 0.3169557\ttotal: 313ms\tremaining: 2.88s\n",
            "98:\tlearn: 0.3159335\ttotal: 316ms\tremaining: 2.88s\n",
            "99:\tlearn: 0.3147587\ttotal: 319ms\tremaining: 2.87s\n",
            "100:\tlearn: 0.3134064\ttotal: 321ms\tremaining: 2.86s\n",
            "101:\tlearn: 0.3122932\ttotal: 324ms\tremaining: 2.85s\n",
            "102:\tlearn: 0.3107873\ttotal: 327ms\tremaining: 2.84s\n",
            "103:\tlearn: 0.3098242\ttotal: 329ms\tremaining: 2.84s\n",
            "104:\tlearn: 0.3088200\ttotal: 332ms\tremaining: 2.83s\n",
            "105:\tlearn: 0.3078982\ttotal: 334ms\tremaining: 2.82s\n",
            "106:\tlearn: 0.3063267\ttotal: 337ms\tremaining: 2.81s\n",
            "107:\tlearn: 0.3055529\ttotal: 340ms\tremaining: 2.81s\n",
            "108:\tlearn: 0.3047952\ttotal: 343ms\tremaining: 2.8s\n",
            "109:\tlearn: 0.3034702\ttotal: 345ms\tremaining: 2.79s\n",
            "110:\tlearn: 0.3026332\ttotal: 348ms\tremaining: 2.79s\n",
            "111:\tlearn: 0.3016912\ttotal: 351ms\tremaining: 2.78s\n",
            "112:\tlearn: 0.3005040\ttotal: 354ms\tremaining: 2.78s\n",
            "113:\tlearn: 0.2997528\ttotal: 357ms\tremaining: 2.77s\n",
            "114:\tlearn: 0.2987393\ttotal: 360ms\tremaining: 2.77s\n",
            "115:\tlearn: 0.2978611\ttotal: 363ms\tremaining: 2.76s\n",
            "116:\tlearn: 0.2970130\ttotal: 366ms\tremaining: 2.76s\n",
            "117:\tlearn: 0.2959316\ttotal: 369ms\tremaining: 2.76s\n",
            "118:\tlearn: 0.2954249\ttotal: 372ms\tremaining: 2.75s\n",
            "119:\tlearn: 0.2944099\ttotal: 375ms\tremaining: 2.75s\n",
            "120:\tlearn: 0.2935335\ttotal: 377ms\tremaining: 2.74s\n",
            "121:\tlearn: 0.2929314\ttotal: 383ms\tremaining: 2.75s\n",
            "122:\tlearn: 0.2922336\ttotal: 388ms\tremaining: 2.77s\n",
            "123:\tlearn: 0.2913796\ttotal: 392ms\tremaining: 2.77s\n",
            "124:\tlearn: 0.2909407\ttotal: 393ms\tremaining: 2.75s\n",
            "125:\tlearn: 0.2899106\ttotal: 396ms\tremaining: 2.75s\n",
            "126:\tlearn: 0.2889542\ttotal: 399ms\tremaining: 2.74s\n",
            "127:\tlearn: 0.2879563\ttotal: 402ms\tremaining: 2.73s\n",
            "128:\tlearn: 0.2873061\ttotal: 404ms\tremaining: 2.73s\n",
            "129:\tlearn: 0.2863477\ttotal: 407ms\tremaining: 2.73s\n",
            "130:\tlearn: 0.2854574\ttotal: 410ms\tremaining: 2.72s\n",
            "131:\tlearn: 0.2847263\ttotal: 414ms\tremaining: 2.72s\n",
            "132:\tlearn: 0.2837958\ttotal: 417ms\tremaining: 2.72s\n",
            "133:\tlearn: 0.2829435\ttotal: 419ms\tremaining: 2.71s\n",
            "134:\tlearn: 0.2821697\ttotal: 422ms\tremaining: 2.7s\n",
            "135:\tlearn: 0.2813571\ttotal: 425ms\tremaining: 2.7s\n",
            "136:\tlearn: 0.2808370\ttotal: 428ms\tremaining: 2.69s\n",
            "137:\tlearn: 0.2798428\ttotal: 430ms\tremaining: 2.69s\n",
            "138:\tlearn: 0.2790427\ttotal: 433ms\tremaining: 2.68s\n",
            "139:\tlearn: 0.2783672\ttotal: 436ms\tremaining: 2.67s\n",
            "140:\tlearn: 0.2778828\ttotal: 438ms\tremaining: 2.67s\n",
            "141:\tlearn: 0.2771702\ttotal: 441ms\tremaining: 2.67s\n",
            "142:\tlearn: 0.2762001\ttotal: 444ms\tremaining: 2.66s\n",
            "143:\tlearn: 0.2752222\ttotal: 447ms\tremaining: 2.65s\n",
            "144:\tlearn: 0.2745320\ttotal: 449ms\tremaining: 2.65s\n",
            "145:\tlearn: 0.2736642\ttotal: 452ms\tremaining: 2.64s\n",
            "146:\tlearn: 0.2727349\ttotal: 455ms\tremaining: 2.64s\n",
            "147:\tlearn: 0.2721085\ttotal: 458ms\tremaining: 2.63s\n",
            "148:\tlearn: 0.2713428\ttotal: 460ms\tremaining: 2.63s\n",
            "149:\tlearn: 0.2707569\ttotal: 463ms\tremaining: 2.62s\n",
            "150:\tlearn: 0.2700864\ttotal: 466ms\tremaining: 2.62s\n",
            "151:\tlearn: 0.2694715\ttotal: 469ms\tremaining: 2.61s\n",
            "152:\tlearn: 0.2688593\ttotal: 471ms\tremaining: 2.61s\n",
            "153:\tlearn: 0.2682209\ttotal: 474ms\tremaining: 2.6s\n",
            "154:\tlearn: 0.2675914\ttotal: 477ms\tremaining: 2.6s\n",
            "155:\tlearn: 0.2668137\ttotal: 479ms\tremaining: 2.59s\n",
            "156:\tlearn: 0.2659400\ttotal: 482ms\tremaining: 2.59s\n",
            "157:\tlearn: 0.2652659\ttotal: 485ms\tremaining: 2.58s\n",
            "158:\tlearn: 0.2650583\ttotal: 486ms\tremaining: 2.57s\n",
            "159:\tlearn: 0.2645560\ttotal: 489ms\tremaining: 2.56s\n",
            "160:\tlearn: 0.2638125\ttotal: 491ms\tremaining: 2.56s\n",
            "161:\tlearn: 0.2631354\ttotal: 494ms\tremaining: 2.56s\n",
            "162:\tlearn: 0.2626610\ttotal: 497ms\tremaining: 2.55s\n",
            "163:\tlearn: 0.2620873\ttotal: 499ms\tremaining: 2.54s\n",
            "164:\tlearn: 0.2615534\ttotal: 502ms\tremaining: 2.54s\n",
            "165:\tlearn: 0.2609710\ttotal: 504ms\tremaining: 2.53s\n",
            "166:\tlearn: 0.2603362\ttotal: 507ms\tremaining: 2.53s\n",
            "167:\tlearn: 0.2597959\ttotal: 510ms\tremaining: 2.52s\n",
            "168:\tlearn: 0.2590791\ttotal: 512ms\tremaining: 2.52s\n",
            "169:\tlearn: 0.2585023\ttotal: 515ms\tremaining: 2.51s\n",
            "170:\tlearn: 0.2575952\ttotal: 518ms\tremaining: 2.51s\n",
            "171:\tlearn: 0.2571357\ttotal: 521ms\tremaining: 2.51s\n",
            "172:\tlearn: 0.2564239\ttotal: 524ms\tremaining: 2.5s\n",
            "173:\tlearn: 0.2558432\ttotal: 526ms\tremaining: 2.5s\n",
            "174:\tlearn: 0.2551246\ttotal: 529ms\tremaining: 2.5s\n",
            "175:\tlearn: 0.2546435\ttotal: 532ms\tremaining: 2.49s\n",
            "176:\tlearn: 0.2541394\ttotal: 535ms\tremaining: 2.48s\n",
            "177:\tlearn: 0.2535635\ttotal: 537ms\tremaining: 2.48s\n",
            "178:\tlearn: 0.2530692\ttotal: 540ms\tremaining: 2.48s\n",
            "179:\tlearn: 0.2525250\ttotal: 543ms\tremaining: 2.47s\n",
            "180:\tlearn: 0.2519699\ttotal: 546ms\tremaining: 2.47s\n",
            "181:\tlearn: 0.2516094\ttotal: 549ms\tremaining: 2.47s\n",
            "182:\tlearn: 0.2510922\ttotal: 552ms\tremaining: 2.46s\n",
            "183:\tlearn: 0.2505256\ttotal: 555ms\tremaining: 2.46s\n",
            "184:\tlearn: 0.2500218\ttotal: 558ms\tremaining: 2.46s\n",
            "185:\tlearn: 0.2496330\ttotal: 560ms\tremaining: 2.45s\n",
            "186:\tlearn: 0.2488689\ttotal: 563ms\tremaining: 2.45s\n",
            "187:\tlearn: 0.2483733\ttotal: 565ms\tremaining: 2.44s\n",
            "188:\tlearn: 0.2477241\ttotal: 568ms\tremaining: 2.44s\n",
            "189:\tlearn: 0.2471050\ttotal: 572ms\tremaining: 2.44s\n",
            "190:\tlearn: 0.2465994\ttotal: 580ms\tremaining: 2.46s\n",
            "191:\tlearn: 0.2460212\ttotal: 583ms\tremaining: 2.45s\n",
            "192:\tlearn: 0.2456088\ttotal: 586ms\tremaining: 2.45s\n",
            "193:\tlearn: 0.2449582\ttotal: 588ms\tremaining: 2.44s\n",
            "194:\tlearn: 0.2444156\ttotal: 591ms\tremaining: 2.44s\n",
            "195:\tlearn: 0.2438329\ttotal: 594ms\tremaining: 2.44s\n",
            "196:\tlearn: 0.2433699\ttotal: 596ms\tremaining: 2.43s\n",
            "197:\tlearn: 0.2429312\ttotal: 599ms\tremaining: 2.42s\n",
            "198:\tlearn: 0.2424005\ttotal: 601ms\tremaining: 2.42s\n",
            "199:\tlearn: 0.2418449\ttotal: 606ms\tremaining: 2.42s\n",
            "200:\tlearn: 0.2413567\ttotal: 611ms\tremaining: 2.43s\n",
            "201:\tlearn: 0.2409219\ttotal: 614ms\tremaining: 2.42s\n",
            "202:\tlearn: 0.2401864\ttotal: 616ms\tremaining: 2.42s\n",
            "203:\tlearn: 0.2397884\ttotal: 619ms\tremaining: 2.42s\n",
            "204:\tlearn: 0.2389770\ttotal: 622ms\tremaining: 2.41s\n",
            "205:\tlearn: 0.2386981\ttotal: 625ms\tremaining: 2.41s\n",
            "206:\tlearn: 0.2384081\ttotal: 628ms\tremaining: 2.4s\n",
            "207:\tlearn: 0.2379423\ttotal: 630ms\tremaining: 2.4s\n",
            "208:\tlearn: 0.2375500\ttotal: 633ms\tremaining: 2.4s\n",
            "209:\tlearn: 0.2371053\ttotal: 636ms\tremaining: 2.39s\n",
            "210:\tlearn: 0.2365968\ttotal: 639ms\tremaining: 2.39s\n",
            "211:\tlearn: 0.2362095\ttotal: 642ms\tremaining: 2.38s\n",
            "212:\tlearn: 0.2357867\ttotal: 645ms\tremaining: 2.38s\n",
            "213:\tlearn: 0.2352719\ttotal: 647ms\tremaining: 2.38s\n",
            "214:\tlearn: 0.2348083\ttotal: 650ms\tremaining: 2.37s\n",
            "215:\tlearn: 0.2344088\ttotal: 653ms\tremaining: 2.37s\n",
            "216:\tlearn: 0.2339128\ttotal: 656ms\tremaining: 2.37s\n",
            "217:\tlearn: 0.2333432\ttotal: 658ms\tremaining: 2.36s\n",
            "218:\tlearn: 0.2327637\ttotal: 661ms\tremaining: 2.36s\n",
            "219:\tlearn: 0.2323788\ttotal: 664ms\tremaining: 2.35s\n",
            "220:\tlearn: 0.2320044\ttotal: 667ms\tremaining: 2.35s\n",
            "221:\tlearn: 0.2314097\ttotal: 669ms\tremaining: 2.35s\n",
            "222:\tlearn: 0.2306927\ttotal: 672ms\tremaining: 2.34s\n",
            "223:\tlearn: 0.2302802\ttotal: 675ms\tremaining: 2.34s\n",
            "224:\tlearn: 0.2298854\ttotal: 678ms\tremaining: 2.33s\n",
            "225:\tlearn: 0.2293985\ttotal: 680ms\tremaining: 2.33s\n",
            "226:\tlearn: 0.2288834\ttotal: 683ms\tremaining: 2.33s\n",
            "227:\tlearn: 0.2284418\ttotal: 686ms\tremaining: 2.32s\n",
            "228:\tlearn: 0.2279450\ttotal: 688ms\tremaining: 2.32s\n",
            "229:\tlearn: 0.2274779\ttotal: 691ms\tremaining: 2.31s\n",
            "230:\tlearn: 0.2269350\ttotal: 694ms\tremaining: 2.31s\n",
            "231:\tlearn: 0.2265614\ttotal: 696ms\tremaining: 2.31s\n",
            "232:\tlearn: 0.2261472\ttotal: 699ms\tremaining: 2.3s\n",
            "233:\tlearn: 0.2257734\ttotal: 702ms\tremaining: 2.3s\n",
            "234:\tlearn: 0.2253576\ttotal: 705ms\tremaining: 2.29s\n",
            "235:\tlearn: 0.2249760\ttotal: 708ms\tremaining: 2.29s\n",
            "236:\tlearn: 0.2244447\ttotal: 710ms\tremaining: 2.29s\n",
            "237:\tlearn: 0.2240680\ttotal: 713ms\tremaining: 2.28s\n",
            "238:\tlearn: 0.2236469\ttotal: 716ms\tremaining: 2.28s\n",
            "239:\tlearn: 0.2232993\ttotal: 718ms\tremaining: 2.27s\n",
            "240:\tlearn: 0.2229474\ttotal: 721ms\tremaining: 2.27s\n",
            "241:\tlearn: 0.2224624\ttotal: 723ms\tremaining: 2.27s\n",
            "242:\tlearn: 0.2220329\ttotal: 726ms\tremaining: 2.26s\n",
            "243:\tlearn: 0.2216056\ttotal: 729ms\tremaining: 2.26s\n",
            "244:\tlearn: 0.2211832\ttotal: 732ms\tremaining: 2.25s\n",
            "245:\tlearn: 0.2206471\ttotal: 734ms\tremaining: 2.25s\n",
            "246:\tlearn: 0.2204069\ttotal: 737ms\tremaining: 2.25s\n",
            "247:\tlearn: 0.2201390\ttotal: 740ms\tremaining: 2.24s\n",
            "248:\tlearn: 0.2197536\ttotal: 742ms\tremaining: 2.24s\n",
            "249:\tlearn: 0.2192531\ttotal: 745ms\tremaining: 2.23s\n",
            "250:\tlearn: 0.2187235\ttotal: 747ms\tremaining: 2.23s\n",
            "251:\tlearn: 0.2184256\ttotal: 750ms\tremaining: 2.23s\n",
            "252:\tlearn: 0.2180559\ttotal: 753ms\tremaining: 2.22s\n",
            "253:\tlearn: 0.2178352\ttotal: 756ms\tremaining: 2.22s\n",
            "254:\tlearn: 0.2174855\ttotal: 759ms\tremaining: 2.22s\n",
            "255:\tlearn: 0.2170656\ttotal: 762ms\tremaining: 2.21s\n",
            "256:\tlearn: 0.2167094\ttotal: 768ms\tremaining: 2.22s\n",
            "257:\tlearn: 0.2160986\ttotal: 772ms\tremaining: 2.22s\n",
            "258:\tlearn: 0.2157312\ttotal: 781ms\tremaining: 2.23s\n",
            "259:\tlearn: 0.2154074\ttotal: 785ms\tremaining: 2.23s\n",
            "260:\tlearn: 0.2150031\ttotal: 788ms\tremaining: 2.23s\n",
            "261:\tlearn: 0.2147389\ttotal: 794ms\tremaining: 2.23s\n",
            "262:\tlearn: 0.2143378\ttotal: 799ms\tremaining: 2.24s\n",
            "263:\tlearn: 0.2138080\ttotal: 805ms\tremaining: 2.24s\n",
            "264:\tlearn: 0.2133893\ttotal: 808ms\tremaining: 2.24s\n",
            "265:\tlearn: 0.2129487\ttotal: 811ms\tremaining: 2.24s\n",
            "266:\tlearn: 0.2126602\ttotal: 813ms\tremaining: 2.23s\n",
            "267:\tlearn: 0.2123641\ttotal: 816ms\tremaining: 2.23s\n",
            "268:\tlearn: 0.2122605\ttotal: 819ms\tremaining: 2.22s\n",
            "269:\tlearn: 0.2118708\ttotal: 824ms\tremaining: 2.23s\n",
            "270:\tlearn: 0.2116599\ttotal: 830ms\tremaining: 2.23s\n",
            "271:\tlearn: 0.2113213\ttotal: 837ms\tremaining: 2.24s\n",
            "272:\tlearn: 0.2110411\ttotal: 840ms\tremaining: 2.23s\n",
            "273:\tlearn: 0.2107490\ttotal: 842ms\tremaining: 2.23s\n",
            "274:\tlearn: 0.2102684\ttotal: 845ms\tremaining: 2.23s\n",
            "275:\tlearn: 0.2099172\ttotal: 847ms\tremaining: 2.22s\n",
            "276:\tlearn: 0.2095915\ttotal: 850ms\tremaining: 2.22s\n",
            "277:\tlearn: 0.2093152\ttotal: 852ms\tremaining: 2.21s\n",
            "278:\tlearn: 0.2090360\ttotal: 855ms\tremaining: 2.21s\n",
            "279:\tlearn: 0.2086660\ttotal: 858ms\tremaining: 2.21s\n",
            "280:\tlearn: 0.2083116\ttotal: 861ms\tremaining: 2.2s\n",
            "281:\tlearn: 0.2078407\ttotal: 863ms\tremaining: 2.2s\n",
            "282:\tlearn: 0.2075281\ttotal: 866ms\tremaining: 2.19s\n",
            "283:\tlearn: 0.2070401\ttotal: 869ms\tremaining: 2.19s\n",
            "284:\tlearn: 0.2068003\ttotal: 872ms\tremaining: 2.19s\n",
            "285:\tlearn: 0.2064670\ttotal: 874ms\tremaining: 2.18s\n",
            "286:\tlearn: 0.2061017\ttotal: 877ms\tremaining: 2.18s\n",
            "287:\tlearn: 0.2057574\ttotal: 880ms\tremaining: 2.17s\n",
            "288:\tlearn: 0.2052988\ttotal: 883ms\tremaining: 2.17s\n",
            "289:\tlearn: 0.2049580\ttotal: 885ms\tremaining: 2.17s\n",
            "290:\tlearn: 0.2044896\ttotal: 888ms\tremaining: 2.16s\n",
            "291:\tlearn: 0.2041502\ttotal: 891ms\tremaining: 2.16s\n",
            "292:\tlearn: 0.2039086\ttotal: 893ms\tremaining: 2.15s\n",
            "293:\tlearn: 0.2035346\ttotal: 896ms\tremaining: 2.15s\n",
            "294:\tlearn: 0.2031585\ttotal: 899ms\tremaining: 2.15s\n",
            "295:\tlearn: 0.2026573\ttotal: 901ms\tremaining: 2.14s\n",
            "296:\tlearn: 0.2022593\ttotal: 904ms\tremaining: 2.14s\n",
            "297:\tlearn: 0.2019425\ttotal: 907ms\tremaining: 2.13s\n",
            "298:\tlearn: 0.2017948\ttotal: 909ms\tremaining: 2.13s\n",
            "299:\tlearn: 0.2015550\ttotal: 912ms\tremaining: 2.13s\n",
            "300:\tlearn: 0.2012301\ttotal: 915ms\tremaining: 2.12s\n",
            "301:\tlearn: 0.2010460\ttotal: 917ms\tremaining: 2.12s\n",
            "302:\tlearn: 0.2007388\ttotal: 920ms\tremaining: 2.12s\n",
            "303:\tlearn: 0.2003493\ttotal: 922ms\tremaining: 2.11s\n",
            "304:\tlearn: 0.2000602\ttotal: 925ms\tremaining: 2.11s\n",
            "305:\tlearn: 0.1998186\ttotal: 928ms\tremaining: 2.1s\n",
            "306:\tlearn: 0.1995490\ttotal: 933ms\tremaining: 2.11s\n",
            "307:\tlearn: 0.1992291\ttotal: 937ms\tremaining: 2.1s\n",
            "308:\tlearn: 0.1988239\ttotal: 940ms\tremaining: 2.1s\n",
            "309:\tlearn: 0.1985719\ttotal: 943ms\tremaining: 2.1s\n",
            "310:\tlearn: 0.1982725\ttotal: 945ms\tremaining: 2.09s\n",
            "311:\tlearn: 0.1978727\ttotal: 948ms\tremaining: 2.09s\n",
            "312:\tlearn: 0.1976084\ttotal: 951ms\tremaining: 2.09s\n",
            "313:\tlearn: 0.1971232\ttotal: 953ms\tremaining: 2.08s\n",
            "314:\tlearn: 0.1968602\ttotal: 961ms\tremaining: 2.09s\n",
            "315:\tlearn: 0.1968415\ttotal: 962ms\tremaining: 2.08s\n",
            "316:\tlearn: 0.1966476\ttotal: 965ms\tremaining: 2.08s\n",
            "317:\tlearn: 0.1965395\ttotal: 967ms\tremaining: 2.07s\n",
            "318:\tlearn: 0.1962106\ttotal: 970ms\tremaining: 2.07s\n",
            "319:\tlearn: 0.1959650\ttotal: 973ms\tremaining: 2.07s\n",
            "320:\tlearn: 0.1956042\ttotal: 975ms\tremaining: 2.06s\n",
            "321:\tlearn: 0.1953400\ttotal: 978ms\tremaining: 2.06s\n",
            "322:\tlearn: 0.1950558\ttotal: 981ms\tremaining: 2.06s\n",
            "323:\tlearn: 0.1947406\ttotal: 983ms\tremaining: 2.05s\n",
            "324:\tlearn: 0.1943980\ttotal: 986ms\tremaining: 2.05s\n",
            "325:\tlearn: 0.1940652\ttotal: 988ms\tremaining: 2.04s\n",
            "326:\tlearn: 0.1937677\ttotal: 991ms\tremaining: 2.04s\n",
            "327:\tlearn: 0.1933379\ttotal: 994ms\tremaining: 2.04s\n",
            "328:\tlearn: 0.1929327\ttotal: 996ms\tremaining: 2.03s\n",
            "329:\tlearn: 0.1927084\ttotal: 999ms\tremaining: 2.03s\n",
            "330:\tlearn: 0.1924407\ttotal: 1s\tremaining: 2.02s\n",
            "331:\tlearn: 0.1922440\ttotal: 1s\tremaining: 2.02s\n",
            "332:\tlearn: 0.1918019\ttotal: 1.01s\tremaining: 2.02s\n",
            "333:\tlearn: 0.1915361\ttotal: 1.01s\tremaining: 2.01s\n",
            "334:\tlearn: 0.1913189\ttotal: 1.01s\tremaining: 2.01s\n",
            "335:\tlearn: 0.1911113\ttotal: 1.01s\tremaining: 2s\n",
            "336:\tlearn: 0.1907752\ttotal: 1.02s\tremaining: 2s\n",
            "337:\tlearn: 0.1906172\ttotal: 1.02s\tremaining: 2s\n",
            "338:\tlearn: 0.1903687\ttotal: 1.02s\tremaining: 2s\n",
            "339:\tlearn: 0.1900944\ttotal: 1.02s\tremaining: 1.99s\n",
            "340:\tlearn: 0.1897694\ttotal: 1.03s\tremaining: 1.99s\n",
            "341:\tlearn: 0.1894959\ttotal: 1.03s\tremaining: 1.98s\n",
            "342:\tlearn: 0.1892362\ttotal: 1.03s\tremaining: 1.98s\n",
            "343:\tlearn: 0.1889090\ttotal: 1.04s\tremaining: 1.98s\n",
            "344:\tlearn: 0.1887273\ttotal: 1.04s\tremaining: 1.97s\n",
            "345:\tlearn: 0.1884985\ttotal: 1.04s\tremaining: 1.97s\n",
            "346:\tlearn: 0.1881656\ttotal: 1.04s\tremaining: 1.97s\n",
            "347:\tlearn: 0.1878366\ttotal: 1.05s\tremaining: 1.96s\n",
            "348:\tlearn: 0.1875090\ttotal: 1.05s\tremaining: 1.96s\n",
            "349:\tlearn: 0.1872486\ttotal: 1.05s\tremaining: 1.95s\n",
            "350:\tlearn: 0.1868786\ttotal: 1.05s\tremaining: 1.95s\n",
            "351:\tlearn: 0.1865599\ttotal: 1.06s\tremaining: 1.95s\n",
            "352:\tlearn: 0.1862451\ttotal: 1.06s\tremaining: 1.94s\n",
            "353:\tlearn: 0.1860181\ttotal: 1.06s\tremaining: 1.94s\n",
            "354:\tlearn: 0.1856695\ttotal: 1.06s\tremaining: 1.94s\n",
            "355:\tlearn: 0.1854344\ttotal: 1.07s\tremaining: 1.93s\n",
            "356:\tlearn: 0.1852010\ttotal: 1.07s\tremaining: 1.93s\n",
            "357:\tlearn: 0.1848522\ttotal: 1.07s\tremaining: 1.93s\n",
            "358:\tlearn: 0.1845867\ttotal: 1.08s\tremaining: 1.92s\n",
            "359:\tlearn: 0.1842903\ttotal: 1.08s\tremaining: 1.92s\n",
            "360:\tlearn: 0.1839847\ttotal: 1.08s\tremaining: 1.92s\n",
            "361:\tlearn: 0.1837543\ttotal: 1.08s\tremaining: 1.91s\n",
            "362:\tlearn: 0.1834111\ttotal: 1.09s\tremaining: 1.91s\n",
            "363:\tlearn: 0.1830494\ttotal: 1.09s\tremaining: 1.91s\n",
            "364:\tlearn: 0.1828049\ttotal: 1.09s\tremaining: 1.9s\n",
            "365:\tlearn: 0.1824832\ttotal: 1.1s\tremaining: 1.9s\n",
            "366:\tlearn: 0.1821777\ttotal: 1.1s\tremaining: 1.9s\n",
            "367:\tlearn: 0.1818196\ttotal: 1.1s\tremaining: 1.89s\n",
            "368:\tlearn: 0.1816235\ttotal: 1.1s\tremaining: 1.89s\n",
            "369:\tlearn: 0.1813915\ttotal: 1.11s\tremaining: 1.88s\n",
            "370:\tlearn: 0.1811735\ttotal: 1.11s\tremaining: 1.88s\n",
            "371:\tlearn: 0.1809347\ttotal: 1.11s\tremaining: 1.88s\n",
            "372:\tlearn: 0.1806358\ttotal: 1.11s\tremaining: 1.87s\n",
            "373:\tlearn: 0.1803656\ttotal: 1.12s\tremaining: 1.87s\n",
            "374:\tlearn: 0.1801191\ttotal: 1.12s\tremaining: 1.87s\n",
            "375:\tlearn: 0.1798893\ttotal: 1.12s\tremaining: 1.86s\n",
            "376:\tlearn: 0.1796270\ttotal: 1.13s\tremaining: 1.86s\n",
            "377:\tlearn: 0.1793849\ttotal: 1.13s\tremaining: 1.86s\n",
            "378:\tlearn: 0.1790685\ttotal: 1.13s\tremaining: 1.85s\n",
            "379:\tlearn: 0.1788605\ttotal: 1.13s\tremaining: 1.85s\n",
            "380:\tlearn: 0.1786666\ttotal: 1.14s\tremaining: 1.84s\n",
            "381:\tlearn: 0.1783717\ttotal: 1.14s\tremaining: 1.84s\n",
            "382:\tlearn: 0.1781730\ttotal: 1.15s\tremaining: 1.84s\n",
            "383:\tlearn: 0.1780165\ttotal: 1.15s\tremaining: 1.85s\n",
            "384:\tlearn: 0.1777977\ttotal: 1.16s\tremaining: 1.85s\n",
            "385:\tlearn: 0.1775866\ttotal: 1.16s\tremaining: 1.85s\n",
            "386:\tlearn: 0.1773994\ttotal: 1.16s\tremaining: 1.84s\n",
            "387:\tlearn: 0.1771835\ttotal: 1.17s\tremaining: 1.84s\n",
            "388:\tlearn: 0.1769918\ttotal: 1.17s\tremaining: 1.84s\n",
            "389:\tlearn: 0.1767179\ttotal: 1.17s\tremaining: 1.83s\n",
            "390:\tlearn: 0.1764626\ttotal: 1.17s\tremaining: 1.83s\n",
            "391:\tlearn: 0.1761907\ttotal: 1.18s\tremaining: 1.82s\n",
            "392:\tlearn: 0.1759092\ttotal: 1.18s\tremaining: 1.82s\n",
            "393:\tlearn: 0.1757171\ttotal: 1.18s\tremaining: 1.82s\n",
            "394:\tlearn: 0.1754927\ttotal: 1.18s\tremaining: 1.81s\n",
            "395:\tlearn: 0.1753794\ttotal: 1.19s\tremaining: 1.81s\n",
            "396:\tlearn: 0.1751476\ttotal: 1.19s\tremaining: 1.81s\n",
            "397:\tlearn: 0.1748409\ttotal: 1.19s\tremaining: 1.8s\n",
            "398:\tlearn: 0.1746274\ttotal: 1.19s\tremaining: 1.8s\n",
            "399:\tlearn: 0.1743178\ttotal: 1.2s\tremaining: 1.79s\n",
            "400:\tlearn: 0.1741291\ttotal: 1.2s\tremaining: 1.79s\n",
            "401:\tlearn: 0.1739609\ttotal: 1.2s\tremaining: 1.79s\n",
            "402:\tlearn: 0.1737007\ttotal: 1.2s\tremaining: 1.78s\n",
            "403:\tlearn: 0.1734378\ttotal: 1.21s\tremaining: 1.78s\n",
            "404:\tlearn: 0.1732410\ttotal: 1.21s\tremaining: 1.78s\n",
            "405:\tlearn: 0.1729112\ttotal: 1.21s\tremaining: 1.78s\n",
            "406:\tlearn: 0.1727225\ttotal: 1.22s\tremaining: 1.77s\n",
            "407:\tlearn: 0.1725334\ttotal: 1.22s\tremaining: 1.77s\n",
            "408:\tlearn: 0.1723409\ttotal: 1.22s\tremaining: 1.76s\n",
            "409:\tlearn: 0.1720332\ttotal: 1.22s\tremaining: 1.76s\n",
            "410:\tlearn: 0.1717994\ttotal: 1.23s\tremaining: 1.76s\n",
            "411:\tlearn: 0.1714726\ttotal: 1.23s\tremaining: 1.75s\n",
            "412:\tlearn: 0.1713125\ttotal: 1.23s\tremaining: 1.75s\n",
            "413:\tlearn: 0.1710785\ttotal: 1.24s\tremaining: 1.75s\n",
            "414:\tlearn: 0.1708860\ttotal: 1.24s\tremaining: 1.75s\n",
            "415:\tlearn: 0.1706848\ttotal: 1.24s\tremaining: 1.74s\n",
            "416:\tlearn: 0.1703510\ttotal: 1.24s\tremaining: 1.74s\n",
            "417:\tlearn: 0.1701784\ttotal: 1.25s\tremaining: 1.74s\n",
            "418:\tlearn: 0.1698478\ttotal: 1.25s\tremaining: 1.73s\n",
            "419:\tlearn: 0.1695920\ttotal: 1.25s\tremaining: 1.73s\n",
            "420:\tlearn: 0.1693319\ttotal: 1.25s\tremaining: 1.72s\n",
            "421:\tlearn: 0.1691370\ttotal: 1.26s\tremaining: 1.72s\n",
            "422:\tlearn: 0.1688544\ttotal: 1.26s\tremaining: 1.72s\n",
            "423:\tlearn: 0.1686398\ttotal: 1.26s\tremaining: 1.72s\n",
            "424:\tlearn: 0.1684767\ttotal: 1.26s\tremaining: 1.71s\n",
            "425:\tlearn: 0.1682444\ttotal: 1.27s\tremaining: 1.71s\n",
            "426:\tlearn: 0.1680580\ttotal: 1.27s\tremaining: 1.7s\n",
            "427:\tlearn: 0.1678293\ttotal: 1.27s\tremaining: 1.7s\n",
            "428:\tlearn: 0.1675788\ttotal: 1.27s\tremaining: 1.7s\n",
            "429:\tlearn: 0.1673878\ttotal: 1.28s\tremaining: 1.69s\n",
            "430:\tlearn: 0.1672548\ttotal: 1.28s\tremaining: 1.69s\n",
            "431:\tlearn: 0.1670312\ttotal: 1.28s\tremaining: 1.69s\n",
            "432:\tlearn: 0.1668401\ttotal: 1.29s\tremaining: 1.68s\n",
            "433:\tlearn: 0.1666230\ttotal: 1.29s\tremaining: 1.68s\n",
            "434:\tlearn: 0.1663163\ttotal: 1.29s\tremaining: 1.68s\n",
            "435:\tlearn: 0.1661745\ttotal: 1.29s\tremaining: 1.67s\n",
            "436:\tlearn: 0.1660127\ttotal: 1.3s\tremaining: 1.67s\n",
            "437:\tlearn: 0.1658952\ttotal: 1.3s\tremaining: 1.67s\n",
            "438:\tlearn: 0.1656974\ttotal: 1.3s\tremaining: 1.66s\n",
            "439:\tlearn: 0.1654576\ttotal: 1.3s\tremaining: 1.66s\n",
            "440:\tlearn: 0.1652268\ttotal: 1.31s\tremaining: 1.66s\n",
            "441:\tlearn: 0.1649068\ttotal: 1.31s\tremaining: 1.65s\n",
            "442:\tlearn: 0.1646446\ttotal: 1.31s\tremaining: 1.65s\n",
            "443:\tlearn: 0.1645000\ttotal: 1.31s\tremaining: 1.65s\n",
            "444:\tlearn: 0.1642247\ttotal: 1.32s\tremaining: 1.64s\n",
            "445:\tlearn: 0.1640861\ttotal: 1.32s\tremaining: 1.64s\n",
            "446:\tlearn: 0.1639084\ttotal: 1.32s\tremaining: 1.64s\n",
            "447:\tlearn: 0.1637342\ttotal: 1.33s\tremaining: 1.63s\n",
            "448:\tlearn: 0.1635396\ttotal: 1.33s\tremaining: 1.63s\n",
            "449:\tlearn: 0.1633625\ttotal: 1.33s\tremaining: 1.63s\n",
            "450:\tlearn: 0.1631138\ttotal: 1.33s\tremaining: 1.62s\n",
            "451:\tlearn: 0.1628327\ttotal: 1.34s\tremaining: 1.62s\n",
            "452:\tlearn: 0.1626167\ttotal: 1.34s\tremaining: 1.62s\n",
            "453:\tlearn: 0.1623687\ttotal: 1.34s\tremaining: 1.62s\n",
            "454:\tlearn: 0.1621300\ttotal: 1.35s\tremaining: 1.62s\n",
            "455:\tlearn: 0.1619178\ttotal: 1.35s\tremaining: 1.61s\n",
            "456:\tlearn: 0.1616407\ttotal: 1.36s\tremaining: 1.61s\n",
            "457:\tlearn: 0.1613199\ttotal: 1.36s\tremaining: 1.61s\n",
            "458:\tlearn: 0.1612014\ttotal: 1.36s\tremaining: 1.6s\n",
            "459:\tlearn: 0.1610661\ttotal: 1.36s\tremaining: 1.6s\n",
            "460:\tlearn: 0.1608679\ttotal: 1.36s\tremaining: 1.6s\n",
            "461:\tlearn: 0.1605181\ttotal: 1.37s\tremaining: 1.59s\n",
            "462:\tlearn: 0.1603435\ttotal: 1.37s\tremaining: 1.59s\n",
            "463:\tlearn: 0.1600953\ttotal: 1.37s\tremaining: 1.59s\n",
            "464:\tlearn: 0.1598437\ttotal: 1.38s\tremaining: 1.58s\n",
            "465:\tlearn: 0.1596543\ttotal: 1.38s\tremaining: 1.58s\n",
            "466:\tlearn: 0.1594464\ttotal: 1.38s\tremaining: 1.57s\n",
            "467:\tlearn: 0.1592909\ttotal: 1.38s\tremaining: 1.57s\n",
            "468:\tlearn: 0.1589833\ttotal: 1.39s\tremaining: 1.57s\n",
            "469:\tlearn: 0.1588127\ttotal: 1.39s\tremaining: 1.56s\n",
            "470:\tlearn: 0.1586000\ttotal: 1.39s\tremaining: 1.56s\n",
            "471:\tlearn: 0.1584744\ttotal: 1.39s\tremaining: 1.56s\n",
            "472:\tlearn: 0.1582668\ttotal: 1.4s\tremaining: 1.55s\n",
            "473:\tlearn: 0.1580115\ttotal: 1.4s\tremaining: 1.55s\n",
            "474:\tlearn: 0.1577741\ttotal: 1.4s\tremaining: 1.55s\n",
            "475:\tlearn: 0.1576238\ttotal: 1.4s\tremaining: 1.55s\n",
            "476:\tlearn: 0.1574403\ttotal: 1.41s\tremaining: 1.54s\n",
            "477:\tlearn: 0.1572976\ttotal: 1.41s\tremaining: 1.54s\n",
            "478:\tlearn: 0.1570315\ttotal: 1.41s\tremaining: 1.54s\n",
            "479:\tlearn: 0.1567775\ttotal: 1.42s\tremaining: 1.53s\n",
            "480:\tlearn: 0.1565837\ttotal: 1.42s\tremaining: 1.53s\n",
            "481:\tlearn: 0.1564143\ttotal: 1.42s\tremaining: 1.53s\n",
            "482:\tlearn: 0.1561661\ttotal: 1.42s\tremaining: 1.52s\n",
            "483:\tlearn: 0.1558444\ttotal: 1.43s\tremaining: 1.52s\n",
            "484:\tlearn: 0.1556693\ttotal: 1.43s\tremaining: 1.52s\n",
            "485:\tlearn: 0.1554464\ttotal: 1.43s\tremaining: 1.51s\n",
            "486:\tlearn: 0.1552552\ttotal: 1.43s\tremaining: 1.51s\n",
            "487:\tlearn: 0.1550731\ttotal: 1.44s\tremaining: 1.51s\n",
            "488:\tlearn: 0.1548871\ttotal: 1.44s\tremaining: 1.5s\n",
            "489:\tlearn: 0.1547102\ttotal: 1.44s\tremaining: 1.5s\n",
            "490:\tlearn: 0.1545300\ttotal: 1.44s\tremaining: 1.5s\n",
            "491:\tlearn: 0.1543107\ttotal: 1.45s\tremaining: 1.49s\n",
            "492:\tlearn: 0.1540411\ttotal: 1.45s\tremaining: 1.49s\n",
            "493:\tlearn: 0.1538750\ttotal: 1.45s\tremaining: 1.49s\n",
            "494:\tlearn: 0.1537128\ttotal: 1.46s\tremaining: 1.48s\n",
            "495:\tlearn: 0.1534336\ttotal: 1.46s\tremaining: 1.48s\n",
            "496:\tlearn: 0.1532214\ttotal: 1.46s\tremaining: 1.48s\n",
            "497:\tlearn: 0.1530701\ttotal: 1.46s\tremaining: 1.48s\n",
            "498:\tlearn: 0.1527932\ttotal: 1.47s\tremaining: 1.47s\n",
            "499:\tlearn: 0.1526092\ttotal: 1.47s\tremaining: 1.47s\n",
            "500:\tlearn: 0.1523685\ttotal: 1.47s\tremaining: 1.47s\n",
            "501:\tlearn: 0.1521370\ttotal: 1.47s\tremaining: 1.46s\n",
            "502:\tlearn: 0.1519909\ttotal: 1.48s\tremaining: 1.46s\n",
            "503:\tlearn: 0.1517650\ttotal: 1.48s\tremaining: 1.46s\n",
            "504:\tlearn: 0.1515184\ttotal: 1.48s\tremaining: 1.45s\n",
            "505:\tlearn: 0.1512855\ttotal: 1.49s\tremaining: 1.45s\n",
            "506:\tlearn: 0.1510198\ttotal: 1.49s\tremaining: 1.45s\n",
            "507:\tlearn: 0.1508496\ttotal: 1.49s\tremaining: 1.44s\n",
            "508:\tlearn: 0.1506199\ttotal: 1.49s\tremaining: 1.44s\n",
            "509:\tlearn: 0.1504744\ttotal: 1.5s\tremaining: 1.44s\n",
            "510:\tlearn: 0.1502740\ttotal: 1.5s\tremaining: 1.43s\n",
            "511:\tlearn: 0.1501267\ttotal: 1.5s\tremaining: 1.43s\n",
            "512:\tlearn: 0.1499398\ttotal: 1.5s\tremaining: 1.43s\n",
            "513:\tlearn: 0.1496978\ttotal: 1.51s\tremaining: 1.42s\n",
            "514:\tlearn: 0.1494271\ttotal: 1.51s\tremaining: 1.42s\n",
            "515:\tlearn: 0.1492671\ttotal: 1.51s\tremaining: 1.42s\n",
            "516:\tlearn: 0.1490183\ttotal: 1.51s\tremaining: 1.41s\n",
            "517:\tlearn: 0.1488423\ttotal: 1.52s\tremaining: 1.41s\n",
            "518:\tlearn: 0.1486310\ttotal: 1.52s\tremaining: 1.41s\n",
            "519:\tlearn: 0.1484452\ttotal: 1.52s\tremaining: 1.41s\n",
            "520:\tlearn: 0.1483231\ttotal: 1.52s\tremaining: 1.4s\n",
            "521:\tlearn: 0.1480834\ttotal: 1.53s\tremaining: 1.4s\n",
            "522:\tlearn: 0.1479361\ttotal: 1.53s\tremaining: 1.4s\n",
            "523:\tlearn: 0.1478107\ttotal: 1.53s\tremaining: 1.39s\n",
            "524:\tlearn: 0.1476555\ttotal: 1.54s\tremaining: 1.39s\n",
            "525:\tlearn: 0.1474800\ttotal: 1.54s\tremaining: 1.39s\n",
            "526:\tlearn: 0.1473057\ttotal: 1.55s\tremaining: 1.39s\n",
            "527:\tlearn: 0.1470300\ttotal: 1.55s\tremaining: 1.38s\n",
            "528:\tlearn: 0.1469196\ttotal: 1.55s\tremaining: 1.38s\n",
            "529:\tlearn: 0.1466981\ttotal: 1.55s\tremaining: 1.38s\n",
            "530:\tlearn: 0.1465022\ttotal: 1.56s\tremaining: 1.37s\n",
            "531:\tlearn: 0.1462534\ttotal: 1.56s\tremaining: 1.37s\n",
            "532:\tlearn: 0.1460680\ttotal: 1.56s\tremaining: 1.37s\n",
            "533:\tlearn: 0.1458530\ttotal: 1.56s\tremaining: 1.36s\n",
            "534:\tlearn: 0.1456683\ttotal: 1.57s\tremaining: 1.36s\n",
            "535:\tlearn: 0.1454965\ttotal: 1.57s\tremaining: 1.36s\n",
            "536:\tlearn: 0.1452511\ttotal: 1.58s\tremaining: 1.36s\n",
            "537:\tlearn: 0.1450666\ttotal: 1.58s\tremaining: 1.36s\n",
            "538:\tlearn: 0.1448695\ttotal: 1.59s\tremaining: 1.36s\n",
            "539:\tlearn: 0.1446527\ttotal: 1.59s\tremaining: 1.35s\n",
            "540:\tlearn: 0.1444545\ttotal: 1.59s\tremaining: 1.35s\n",
            "541:\tlearn: 0.1442279\ttotal: 1.6s\tremaining: 1.35s\n",
            "542:\tlearn: 0.1440904\ttotal: 1.6s\tremaining: 1.35s\n",
            "543:\tlearn: 0.1438539\ttotal: 1.6s\tremaining: 1.34s\n",
            "544:\tlearn: 0.1437417\ttotal: 1.6s\tremaining: 1.34s\n",
            "545:\tlearn: 0.1435258\ttotal: 1.61s\tremaining: 1.34s\n",
            "546:\tlearn: 0.1434026\ttotal: 1.61s\tremaining: 1.33s\n",
            "547:\tlearn: 0.1432272\ttotal: 1.61s\tremaining: 1.33s\n",
            "548:\tlearn: 0.1430591\ttotal: 1.62s\tremaining: 1.33s\n",
            "549:\tlearn: 0.1428691\ttotal: 1.62s\tremaining: 1.32s\n",
            "550:\tlearn: 0.1426965\ttotal: 1.62s\tremaining: 1.32s\n",
            "551:\tlearn: 0.1425079\ttotal: 1.62s\tremaining: 1.32s\n",
            "552:\tlearn: 0.1423981\ttotal: 1.63s\tremaining: 1.32s\n",
            "553:\tlearn: 0.1421819\ttotal: 1.63s\tremaining: 1.31s\n",
            "554:\tlearn: 0.1420367\ttotal: 1.64s\tremaining: 1.31s\n",
            "555:\tlearn: 0.1418487\ttotal: 1.64s\tremaining: 1.31s\n",
            "556:\tlearn: 0.1416797\ttotal: 1.64s\tremaining: 1.31s\n",
            "557:\tlearn: 0.1414852\ttotal: 1.65s\tremaining: 1.3s\n",
            "558:\tlearn: 0.1412916\ttotal: 1.65s\tremaining: 1.3s\n",
            "559:\tlearn: 0.1410995\ttotal: 1.65s\tremaining: 1.3s\n",
            "560:\tlearn: 0.1407707\ttotal: 1.65s\tremaining: 1.29s\n",
            "561:\tlearn: 0.1405597\ttotal: 1.66s\tremaining: 1.29s\n",
            "562:\tlearn: 0.1404031\ttotal: 1.66s\tremaining: 1.29s\n",
            "563:\tlearn: 0.1401882\ttotal: 1.66s\tremaining: 1.28s\n",
            "564:\tlearn: 0.1399507\ttotal: 1.67s\tremaining: 1.28s\n",
            "565:\tlearn: 0.1397439\ttotal: 1.67s\tremaining: 1.28s\n",
            "566:\tlearn: 0.1395965\ttotal: 1.67s\tremaining: 1.28s\n",
            "567:\tlearn: 0.1394612\ttotal: 1.68s\tremaining: 1.27s\n",
            "568:\tlearn: 0.1392314\ttotal: 1.68s\tremaining: 1.27s\n",
            "569:\tlearn: 0.1390674\ttotal: 1.68s\tremaining: 1.27s\n",
            "570:\tlearn: 0.1389097\ttotal: 1.68s\tremaining: 1.26s\n",
            "571:\tlearn: 0.1386675\ttotal: 1.69s\tremaining: 1.26s\n",
            "572:\tlearn: 0.1384894\ttotal: 1.69s\tremaining: 1.26s\n",
            "573:\tlearn: 0.1383929\ttotal: 1.69s\tremaining: 1.25s\n",
            "574:\tlearn: 0.1381877\ttotal: 1.69s\tremaining: 1.25s\n",
            "575:\tlearn: 0.1380439\ttotal: 1.7s\tremaining: 1.25s\n",
            "576:\tlearn: 0.1379116\ttotal: 1.7s\tremaining: 1.25s\n",
            "577:\tlearn: 0.1377264\ttotal: 1.7s\tremaining: 1.24s\n",
            "578:\tlearn: 0.1375774\ttotal: 1.7s\tremaining: 1.24s\n",
            "579:\tlearn: 0.1374802\ttotal: 1.71s\tremaining: 1.24s\n",
            "580:\tlearn: 0.1372697\ttotal: 1.71s\tremaining: 1.23s\n",
            "581:\tlearn: 0.1371047\ttotal: 1.71s\tremaining: 1.23s\n",
            "582:\tlearn: 0.1369319\ttotal: 1.72s\tremaining: 1.23s\n",
            "583:\tlearn: 0.1368088\ttotal: 1.72s\tremaining: 1.22s\n",
            "584:\tlearn: 0.1366332\ttotal: 1.72s\tremaining: 1.22s\n",
            "585:\tlearn: 0.1364885\ttotal: 1.72s\tremaining: 1.22s\n",
            "586:\tlearn: 0.1363179\ttotal: 1.73s\tremaining: 1.22s\n",
            "587:\tlearn: 0.1361004\ttotal: 1.73s\tremaining: 1.21s\n",
            "588:\tlearn: 0.1359775\ttotal: 1.74s\tremaining: 1.21s\n",
            "589:\tlearn: 0.1357349\ttotal: 1.74s\tremaining: 1.21s\n",
            "590:\tlearn: 0.1355781\ttotal: 1.74s\tremaining: 1.2s\n",
            "591:\tlearn: 0.1354208\ttotal: 1.74s\tremaining: 1.2s\n",
            "592:\tlearn: 0.1352441\ttotal: 1.75s\tremaining: 1.2s\n",
            "593:\tlearn: 0.1350992\ttotal: 1.75s\tremaining: 1.2s\n",
            "594:\tlearn: 0.1349293\ttotal: 1.75s\tremaining: 1.19s\n",
            "595:\tlearn: 0.1347828\ttotal: 1.75s\tremaining: 1.19s\n",
            "596:\tlearn: 0.1346370\ttotal: 1.76s\tremaining: 1.19s\n",
            "597:\tlearn: 0.1345724\ttotal: 1.76s\tremaining: 1.18s\n",
            "598:\tlearn: 0.1344429\ttotal: 1.77s\tremaining: 1.18s\n",
            "599:\tlearn: 0.1343361\ttotal: 1.77s\tremaining: 1.18s\n",
            "600:\tlearn: 0.1341422\ttotal: 1.77s\tremaining: 1.18s\n",
            "601:\tlearn: 0.1339986\ttotal: 1.78s\tremaining: 1.17s\n",
            "602:\tlearn: 0.1338791\ttotal: 1.78s\tremaining: 1.17s\n",
            "603:\tlearn: 0.1337246\ttotal: 1.78s\tremaining: 1.17s\n",
            "604:\tlearn: 0.1335111\ttotal: 1.78s\tremaining: 1.17s\n",
            "605:\tlearn: 0.1334110\ttotal: 1.79s\tremaining: 1.16s\n",
            "606:\tlearn: 0.1332904\ttotal: 1.79s\tremaining: 1.16s\n",
            "607:\tlearn: 0.1331007\ttotal: 1.79s\tremaining: 1.16s\n",
            "608:\tlearn: 0.1329248\ttotal: 1.79s\tremaining: 1.15s\n",
            "609:\tlearn: 0.1326864\ttotal: 1.8s\tremaining: 1.15s\n",
            "610:\tlearn: 0.1325632\ttotal: 1.8s\tremaining: 1.15s\n",
            "611:\tlearn: 0.1322848\ttotal: 1.8s\tremaining: 1.14s\n",
            "612:\tlearn: 0.1321094\ttotal: 1.8s\tremaining: 1.14s\n",
            "613:\tlearn: 0.1319206\ttotal: 1.81s\tremaining: 1.14s\n",
            "614:\tlearn: 0.1318468\ttotal: 1.81s\tremaining: 1.13s\n",
            "615:\tlearn: 0.1316654\ttotal: 1.81s\tremaining: 1.13s\n",
            "616:\tlearn: 0.1313460\ttotal: 1.82s\tremaining: 1.13s\n",
            "617:\tlearn: 0.1312083\ttotal: 1.82s\tremaining: 1.12s\n",
            "618:\tlearn: 0.1309028\ttotal: 1.82s\tremaining: 1.12s\n",
            "619:\tlearn: 0.1307766\ttotal: 1.82s\tremaining: 1.12s\n",
            "620:\tlearn: 0.1306594\ttotal: 1.83s\tremaining: 1.11s\n",
            "621:\tlearn: 0.1304643\ttotal: 1.83s\tremaining: 1.11s\n",
            "622:\tlearn: 0.1302594\ttotal: 1.83s\tremaining: 1.11s\n",
            "623:\tlearn: 0.1300835\ttotal: 1.83s\tremaining: 1.1s\n",
            "624:\tlearn: 0.1299264\ttotal: 1.84s\tremaining: 1.1s\n",
            "625:\tlearn: 0.1297709\ttotal: 1.84s\tremaining: 1.1s\n",
            "626:\tlearn: 0.1295147\ttotal: 1.84s\tremaining: 1.1s\n",
            "627:\tlearn: 0.1293300\ttotal: 1.84s\tremaining: 1.09s\n",
            "628:\tlearn: 0.1291191\ttotal: 1.85s\tremaining: 1.09s\n",
            "629:\tlearn: 0.1289101\ttotal: 1.85s\tremaining: 1.09s\n",
            "630:\tlearn: 0.1288007\ttotal: 1.85s\tremaining: 1.08s\n",
            "631:\tlearn: 0.1287203\ttotal: 1.86s\tremaining: 1.08s\n",
            "632:\tlearn: 0.1285412\ttotal: 1.86s\tremaining: 1.08s\n",
            "633:\tlearn: 0.1284221\ttotal: 1.86s\tremaining: 1.07s\n",
            "634:\tlearn: 0.1281877\ttotal: 1.86s\tremaining: 1.07s\n",
            "635:\tlearn: 0.1280159\ttotal: 1.87s\tremaining: 1.07s\n",
            "636:\tlearn: 0.1278220\ttotal: 1.87s\tremaining: 1.06s\n",
            "637:\tlearn: 0.1276400\ttotal: 1.87s\tremaining: 1.06s\n",
            "638:\tlearn: 0.1275504\ttotal: 1.87s\tremaining: 1.06s\n",
            "639:\tlearn: 0.1273459\ttotal: 1.88s\tremaining: 1.05s\n",
            "640:\tlearn: 0.1272764\ttotal: 1.88s\tremaining: 1.05s\n",
            "641:\tlearn: 0.1270743\ttotal: 1.88s\tremaining: 1.05s\n",
            "642:\tlearn: 0.1267757\ttotal: 1.88s\tremaining: 1.05s\n",
            "643:\tlearn: 0.1266344\ttotal: 1.89s\tremaining: 1.04s\n",
            "644:\tlearn: 0.1264901\ttotal: 1.89s\tremaining: 1.04s\n",
            "645:\tlearn: 0.1262690\ttotal: 1.89s\tremaining: 1.04s\n",
            "646:\tlearn: 0.1260614\ttotal: 1.9s\tremaining: 1.03s\n",
            "647:\tlearn: 0.1258613\ttotal: 1.9s\tremaining: 1.03s\n",
            "648:\tlearn: 0.1256589\ttotal: 1.9s\tremaining: 1.03s\n",
            "649:\tlearn: 0.1254602\ttotal: 1.91s\tremaining: 1.03s\n",
            "650:\tlearn: 0.1252465\ttotal: 1.91s\tremaining: 1.02s\n",
            "651:\tlearn: 0.1250661\ttotal: 1.91s\tremaining: 1.02s\n",
            "652:\tlearn: 0.1248915\ttotal: 1.91s\tremaining: 1.02s\n",
            "653:\tlearn: 0.1247872\ttotal: 1.92s\tremaining: 1.01s\n",
            "654:\tlearn: 0.1246043\ttotal: 1.93s\tremaining: 1.01s\n",
            "655:\tlearn: 0.1244828\ttotal: 1.93s\tremaining: 1.01s\n",
            "656:\tlearn: 0.1243020\ttotal: 1.93s\tremaining: 1.01s\n",
            "657:\tlearn: 0.1241216\ttotal: 1.93s\tremaining: 1s\n",
            "658:\tlearn: 0.1239745\ttotal: 1.94s\tremaining: 1s\n",
            "659:\tlearn: 0.1238839\ttotal: 1.94s\tremaining: 999ms\n",
            "660:\tlearn: 0.1237789\ttotal: 1.94s\tremaining: 995ms\n",
            "661:\tlearn: 0.1235737\ttotal: 1.94s\tremaining: 992ms\n",
            "662:\tlearn: 0.1234281\ttotal: 1.95s\tremaining: 989ms\n",
            "663:\tlearn: 0.1232640\ttotal: 1.95s\tremaining: 986ms\n",
            "664:\tlearn: 0.1231046\ttotal: 1.95s\tremaining: 983ms\n",
            "665:\tlearn: 0.1229239\ttotal: 1.95s\tremaining: 980ms\n",
            "666:\tlearn: 0.1226921\ttotal: 1.96s\tremaining: 977ms\n",
            "667:\tlearn: 0.1225497\ttotal: 1.96s\tremaining: 974ms\n",
            "668:\tlearn: 0.1224207\ttotal: 1.96s\tremaining: 971ms\n",
            "669:\tlearn: 0.1222986\ttotal: 1.96s\tremaining: 968ms\n",
            "670:\tlearn: 0.1221505\ttotal: 1.97s\tremaining: 965ms\n",
            "671:\tlearn: 0.1220736\ttotal: 1.97s\tremaining: 962ms\n",
            "672:\tlearn: 0.1219627\ttotal: 1.97s\tremaining: 958ms\n",
            "673:\tlearn: 0.1219166\ttotal: 1.98s\tremaining: 955ms\n",
            "674:\tlearn: 0.1217916\ttotal: 1.98s\tremaining: 952ms\n",
            "675:\tlearn: 0.1216301\ttotal: 1.98s\tremaining: 949ms\n",
            "676:\tlearn: 0.1215213\ttotal: 1.98s\tremaining: 946ms\n",
            "677:\tlearn: 0.1214272\ttotal: 1.99s\tremaining: 943ms\n",
            "678:\tlearn: 0.1212595\ttotal: 1.99s\tremaining: 940ms\n",
            "679:\tlearn: 0.1211245\ttotal: 1.99s\tremaining: 937ms\n",
            "680:\tlearn: 0.1210200\ttotal: 1.99s\tremaining: 934ms\n",
            "681:\tlearn: 0.1209297\ttotal: 2s\tremaining: 931ms\n",
            "682:\tlearn: 0.1208358\ttotal: 2s\tremaining: 928ms\n",
            "683:\tlearn: 0.1206829\ttotal: 2s\tremaining: 925ms\n",
            "684:\tlearn: 0.1204504\ttotal: 2s\tremaining: 922ms\n",
            "685:\tlearn: 0.1202967\ttotal: 2.01s\tremaining: 919ms\n",
            "686:\tlearn: 0.1201322\ttotal: 2.01s\tremaining: 916ms\n",
            "687:\tlearn: 0.1199593\ttotal: 2.01s\tremaining: 913ms\n",
            "688:\tlearn: 0.1197734\ttotal: 2.02s\tremaining: 910ms\n",
            "689:\tlearn: 0.1195806\ttotal: 2.02s\tremaining: 907ms\n",
            "690:\tlearn: 0.1193921\ttotal: 2.02s\tremaining: 904ms\n",
            "691:\tlearn: 0.1192279\ttotal: 2.02s\tremaining: 901ms\n",
            "692:\tlearn: 0.1191124\ttotal: 2.03s\tremaining: 898ms\n",
            "693:\tlearn: 0.1189690\ttotal: 2.03s\tremaining: 895ms\n",
            "694:\tlearn: 0.1187879\ttotal: 2.03s\tremaining: 892ms\n",
            "695:\tlearn: 0.1186076\ttotal: 2.03s\tremaining: 889ms\n",
            "696:\tlearn: 0.1185369\ttotal: 2.04s\tremaining: 886ms\n",
            "697:\tlearn: 0.1183963\ttotal: 2.04s\tremaining: 883ms\n",
            "698:\tlearn: 0.1182979\ttotal: 2.04s\tremaining: 880ms\n",
            "699:\tlearn: 0.1181420\ttotal: 2.04s\tremaining: 877ms\n",
            "700:\tlearn: 0.1180014\ttotal: 2.05s\tremaining: 874ms\n",
            "701:\tlearn: 0.1178878\ttotal: 2.05s\tremaining: 871ms\n",
            "702:\tlearn: 0.1177594\ttotal: 2.05s\tremaining: 868ms\n",
            "703:\tlearn: 0.1175142\ttotal: 2.06s\tremaining: 864ms\n",
            "704:\tlearn: 0.1173352\ttotal: 2.06s\tremaining: 861ms\n",
            "705:\tlearn: 0.1171796\ttotal: 2.06s\tremaining: 858ms\n",
            "706:\tlearn: 0.1170193\ttotal: 2.07s\tremaining: 856ms\n",
            "707:\tlearn: 0.1169320\ttotal: 2.07s\tremaining: 853ms\n",
            "708:\tlearn: 0.1167560\ttotal: 2.07s\tremaining: 850ms\n",
            "709:\tlearn: 0.1166216\ttotal: 2.07s\tremaining: 847ms\n",
            "710:\tlearn: 0.1165218\ttotal: 2.08s\tremaining: 844ms\n",
            "711:\tlearn: 0.1164195\ttotal: 2.08s\tremaining: 841ms\n",
            "712:\tlearn: 0.1162615\ttotal: 2.08s\tremaining: 838ms\n",
            "713:\tlearn: 0.1161759\ttotal: 2.08s\tremaining: 836ms\n",
            "714:\tlearn: 0.1159633\ttotal: 2.09s\tremaining: 833ms\n",
            "715:\tlearn: 0.1158305\ttotal: 2.09s\tremaining: 830ms\n",
            "716:\tlearn: 0.1156726\ttotal: 2.09s\tremaining: 827ms\n",
            "717:\tlearn: 0.1156303\ttotal: 2.1s\tremaining: 824ms\n",
            "718:\tlearn: 0.1154253\ttotal: 2.1s\tremaining: 820ms\n",
            "719:\tlearn: 0.1152824\ttotal: 2.1s\tremaining: 817ms\n",
            "720:\tlearn: 0.1151652\ttotal: 2.1s\tremaining: 814ms\n",
            "721:\tlearn: 0.1150258\ttotal: 2.11s\tremaining: 813ms\n",
            "722:\tlearn: 0.1148404\ttotal: 2.11s\tremaining: 810ms\n",
            "723:\tlearn: 0.1147270\ttotal: 2.12s\tremaining: 807ms\n",
            "724:\tlearn: 0.1145918\ttotal: 2.12s\tremaining: 804ms\n",
            "725:\tlearn: 0.1143051\ttotal: 2.12s\tremaining: 801ms\n",
            "726:\tlearn: 0.1142175\ttotal: 2.12s\tremaining: 798ms\n",
            "727:\tlearn: 0.1140897\ttotal: 2.13s\tremaining: 795ms\n",
            "728:\tlearn: 0.1139612\ttotal: 2.13s\tremaining: 792ms\n",
            "729:\tlearn: 0.1137875\ttotal: 2.13s\tremaining: 789ms\n",
            "730:\tlearn: 0.1137066\ttotal: 2.14s\tremaining: 786ms\n",
            "731:\tlearn: 0.1135385\ttotal: 2.14s\tremaining: 783ms\n",
            "732:\tlearn: 0.1134096\ttotal: 2.14s\tremaining: 780ms\n",
            "733:\tlearn: 0.1133024\ttotal: 2.14s\tremaining: 777ms\n",
            "734:\tlearn: 0.1131969\ttotal: 2.15s\tremaining: 774ms\n",
            "735:\tlearn: 0.1129972\ttotal: 2.15s\tremaining: 771ms\n",
            "736:\tlearn: 0.1128453\ttotal: 2.15s\tremaining: 768ms\n",
            "737:\tlearn: 0.1126631\ttotal: 2.15s\tremaining: 765ms\n",
            "738:\tlearn: 0.1124847\ttotal: 2.16s\tremaining: 762ms\n",
            "739:\tlearn: 0.1123358\ttotal: 2.16s\tremaining: 759ms\n",
            "740:\tlearn: 0.1122642\ttotal: 2.16s\tremaining: 756ms\n",
            "741:\tlearn: 0.1121237\ttotal: 2.17s\tremaining: 753ms\n",
            "742:\tlearn: 0.1119093\ttotal: 2.17s\tremaining: 750ms\n",
            "743:\tlearn: 0.1118171\ttotal: 2.17s\tremaining: 747ms\n",
            "744:\tlearn: 0.1116638\ttotal: 2.17s\tremaining: 744ms\n",
            "745:\tlearn: 0.1115255\ttotal: 2.18s\tremaining: 741ms\n",
            "746:\tlearn: 0.1113935\ttotal: 2.18s\tremaining: 738ms\n",
            "747:\tlearn: 0.1113280\ttotal: 2.18s\tremaining: 735ms\n",
            "748:\tlearn: 0.1111566\ttotal: 2.18s\tremaining: 732ms\n",
            "749:\tlearn: 0.1111186\ttotal: 2.19s\tremaining: 729ms\n",
            "750:\tlearn: 0.1109507\ttotal: 2.19s\tremaining: 726ms\n",
            "751:\tlearn: 0.1107738\ttotal: 2.19s\tremaining: 723ms\n",
            "752:\tlearn: 0.1105899\ttotal: 2.19s\tremaining: 720ms\n",
            "753:\tlearn: 0.1104850\ttotal: 2.2s\tremaining: 717ms\n",
            "754:\tlearn: 0.1103544\ttotal: 2.2s\tremaining: 714ms\n",
            "755:\tlearn: 0.1102061\ttotal: 2.2s\tremaining: 711ms\n",
            "756:\tlearn: 0.1100496\ttotal: 2.21s\tremaining: 708ms\n",
            "757:\tlearn: 0.1098866\ttotal: 2.21s\tremaining: 705ms\n",
            "758:\tlearn: 0.1098373\ttotal: 2.21s\tremaining: 702ms\n",
            "759:\tlearn: 0.1096202\ttotal: 2.21s\tremaining: 699ms\n",
            "760:\tlearn: 0.1095962\ttotal: 2.22s\tremaining: 696ms\n",
            "761:\tlearn: 0.1095263\ttotal: 2.22s\tremaining: 693ms\n",
            "762:\tlearn: 0.1094763\ttotal: 2.22s\tremaining: 690ms\n",
            "763:\tlearn: 0.1093212\ttotal: 2.22s\tremaining: 687ms\n",
            "764:\tlearn: 0.1092413\ttotal: 2.23s\tremaining: 684ms\n",
            "765:\tlearn: 0.1091393\ttotal: 2.23s\tremaining: 681ms\n",
            "766:\tlearn: 0.1090140\ttotal: 2.23s\tremaining: 678ms\n",
            "767:\tlearn: 0.1089597\ttotal: 2.23s\tremaining: 675ms\n",
            "768:\tlearn: 0.1088245\ttotal: 2.24s\tremaining: 672ms\n",
            "769:\tlearn: 0.1086745\ttotal: 2.24s\tremaining: 669ms\n",
            "770:\tlearn: 0.1085430\ttotal: 2.24s\tremaining: 667ms\n",
            "771:\tlearn: 0.1083923\ttotal: 2.25s\tremaining: 664ms\n",
            "772:\tlearn: 0.1082772\ttotal: 2.25s\tremaining: 662ms\n",
            "773:\tlearn: 0.1082533\ttotal: 2.25s\tremaining: 659ms\n",
            "774:\tlearn: 0.1081674\ttotal: 2.26s\tremaining: 656ms\n",
            "775:\tlearn: 0.1080607\ttotal: 2.26s\tremaining: 653ms\n",
            "776:\tlearn: 0.1079015\ttotal: 2.26s\tremaining: 650ms\n",
            "777:\tlearn: 0.1078223\ttotal: 2.27s\tremaining: 647ms\n",
            "778:\tlearn: 0.1076509\ttotal: 2.27s\tremaining: 644ms\n",
            "779:\tlearn: 0.1075725\ttotal: 2.27s\tremaining: 641ms\n",
            "780:\tlearn: 0.1074297\ttotal: 2.27s\tremaining: 638ms\n",
            "781:\tlearn: 0.1073241\ttotal: 2.28s\tremaining: 635ms\n",
            "782:\tlearn: 0.1072237\ttotal: 2.28s\tremaining: 632ms\n",
            "783:\tlearn: 0.1070974\ttotal: 2.28s\tremaining: 629ms\n",
            "784:\tlearn: 0.1070240\ttotal: 2.29s\tremaining: 626ms\n",
            "785:\tlearn: 0.1068936\ttotal: 2.29s\tremaining: 623ms\n",
            "786:\tlearn: 0.1067642\ttotal: 2.29s\tremaining: 620ms\n",
            "787:\tlearn: 0.1066832\ttotal: 2.29s\tremaining: 617ms\n",
            "788:\tlearn: 0.1065530\ttotal: 2.3s\tremaining: 615ms\n",
            "789:\tlearn: 0.1063571\ttotal: 2.31s\tremaining: 613ms\n",
            "790:\tlearn: 0.1062291\ttotal: 2.31s\tremaining: 610ms\n",
            "791:\tlearn: 0.1061554\ttotal: 2.31s\tremaining: 607ms\n",
            "792:\tlearn: 0.1060473\ttotal: 2.31s\tremaining: 604ms\n",
            "793:\tlearn: 0.1059277\ttotal: 2.32s\tremaining: 601ms\n",
            "794:\tlearn: 0.1058788\ttotal: 2.32s\tremaining: 598ms\n",
            "795:\tlearn: 0.1057380\ttotal: 2.32s\tremaining: 595ms\n",
            "796:\tlearn: 0.1056559\ttotal: 2.32s\tremaining: 592ms\n",
            "797:\tlearn: 0.1056076\ttotal: 2.33s\tremaining: 589ms\n",
            "798:\tlearn: 0.1055475\ttotal: 2.33s\tremaining: 586ms\n",
            "799:\tlearn: 0.1054994\ttotal: 2.33s\tremaining: 583ms\n",
            "800:\tlearn: 0.1054248\ttotal: 2.33s\tremaining: 580ms\n",
            "801:\tlearn: 0.1052768\ttotal: 2.34s\tremaining: 577ms\n",
            "802:\tlearn: 0.1051049\ttotal: 2.34s\tremaining: 574ms\n",
            "803:\tlearn: 0.1049703\ttotal: 2.34s\tremaining: 571ms\n",
            "804:\tlearn: 0.1048542\ttotal: 2.35s\tremaining: 568ms\n",
            "805:\tlearn: 0.1048173\ttotal: 2.35s\tremaining: 565ms\n",
            "806:\tlearn: 0.1046975\ttotal: 2.35s\tremaining: 562ms\n",
            "807:\tlearn: 0.1045606\ttotal: 2.35s\tremaining: 559ms\n",
            "808:\tlearn: 0.1044222\ttotal: 2.35s\tremaining: 556ms\n",
            "809:\tlearn: 0.1043386\ttotal: 2.36s\tremaining: 553ms\n",
            "810:\tlearn: 0.1041857\ttotal: 2.36s\tremaining: 550ms\n",
            "811:\tlearn: 0.1041274\ttotal: 2.36s\tremaining: 547ms\n",
            "812:\tlearn: 0.1039801\ttotal: 2.37s\tremaining: 544ms\n",
            "813:\tlearn: 0.1038499\ttotal: 2.37s\tremaining: 541ms\n",
            "814:\tlearn: 0.1036852\ttotal: 2.37s\tremaining: 538ms\n",
            "815:\tlearn: 0.1036195\ttotal: 2.37s\tremaining: 536ms\n",
            "816:\tlearn: 0.1035703\ttotal: 2.38s\tremaining: 533ms\n",
            "817:\tlearn: 0.1033958\ttotal: 2.38s\tremaining: 530ms\n",
            "818:\tlearn: 0.1033009\ttotal: 2.38s\tremaining: 527ms\n",
            "819:\tlearn: 0.1032027\ttotal: 2.38s\tremaining: 524ms\n",
            "820:\tlearn: 0.1030058\ttotal: 2.39s\tremaining: 521ms\n",
            "821:\tlearn: 0.1028427\ttotal: 2.39s\tremaining: 518ms\n",
            "822:\tlearn: 0.1027128\ttotal: 2.39s\tremaining: 515ms\n",
            "823:\tlearn: 0.1026020\ttotal: 2.4s\tremaining: 512ms\n",
            "824:\tlearn: 0.1024950\ttotal: 2.4s\tremaining: 509ms\n",
            "825:\tlearn: 0.1023682\ttotal: 2.4s\tremaining: 506ms\n",
            "826:\tlearn: 0.1022251\ttotal: 2.4s\tremaining: 503ms\n",
            "827:\tlearn: 0.1020880\ttotal: 2.41s\tremaining: 500ms\n",
            "828:\tlearn: 0.1019539\ttotal: 2.41s\tremaining: 497ms\n",
            "829:\tlearn: 0.1017323\ttotal: 2.41s\tremaining: 494ms\n",
            "830:\tlearn: 0.1016520\ttotal: 2.42s\tremaining: 491ms\n",
            "831:\tlearn: 0.1014907\ttotal: 2.42s\tremaining: 488ms\n",
            "832:\tlearn: 0.1014003\ttotal: 2.42s\tremaining: 485ms\n",
            "833:\tlearn: 0.1013719\ttotal: 2.42s\tremaining: 482ms\n",
            "834:\tlearn: 0.1012341\ttotal: 2.43s\tremaining: 479ms\n",
            "835:\tlearn: 0.1010802\ttotal: 2.43s\tremaining: 477ms\n",
            "836:\tlearn: 0.1009318\ttotal: 2.43s\tremaining: 474ms\n",
            "837:\tlearn: 0.1008104\ttotal: 2.43s\tremaining: 471ms\n",
            "838:\tlearn: 0.1006574\ttotal: 2.44s\tremaining: 468ms\n",
            "839:\tlearn: 0.1005234\ttotal: 2.44s\tremaining: 465ms\n",
            "840:\tlearn: 0.1004303\ttotal: 2.44s\tremaining: 462ms\n",
            "841:\tlearn: 0.1003522\ttotal: 2.44s\tremaining: 459ms\n",
            "842:\tlearn: 0.1001849\ttotal: 2.45s\tremaining: 456ms\n",
            "843:\tlearn: 0.1001102\ttotal: 2.45s\tremaining: 453ms\n",
            "844:\tlearn: 0.1000084\ttotal: 2.45s\tremaining: 450ms\n",
            "845:\tlearn: 0.0998818\ttotal: 2.46s\tremaining: 447ms\n",
            "846:\tlearn: 0.0997835\ttotal: 2.46s\tremaining: 444ms\n",
            "847:\tlearn: 0.0997750\ttotal: 2.46s\tremaining: 441ms\n",
            "848:\tlearn: 0.0996907\ttotal: 2.46s\tremaining: 438ms\n",
            "849:\tlearn: 0.0995422\ttotal: 2.46s\tremaining: 435ms\n",
            "850:\tlearn: 0.0994505\ttotal: 2.47s\tremaining: 432ms\n",
            "851:\tlearn: 0.0992678\ttotal: 2.47s\tremaining: 429ms\n",
            "852:\tlearn: 0.0991702\ttotal: 2.47s\tremaining: 426ms\n",
            "853:\tlearn: 0.0990950\ttotal: 2.48s\tremaining: 423ms\n",
            "854:\tlearn: 0.0990121\ttotal: 2.48s\tremaining: 420ms\n",
            "855:\tlearn: 0.0989294\ttotal: 2.48s\tremaining: 417ms\n",
            "856:\tlearn: 0.0988569\ttotal: 2.48s\tremaining: 414ms\n",
            "857:\tlearn: 0.0987732\ttotal: 2.49s\tremaining: 412ms\n",
            "858:\tlearn: 0.0986916\ttotal: 2.49s\tremaining: 409ms\n",
            "859:\tlearn: 0.0985417\ttotal: 2.49s\tremaining: 406ms\n",
            "860:\tlearn: 0.0984263\ttotal: 2.5s\tremaining: 404ms\n",
            "861:\tlearn: 0.0982693\ttotal: 2.5s\tremaining: 401ms\n",
            "862:\tlearn: 0.0982015\ttotal: 2.5s\tremaining: 398ms\n",
            "863:\tlearn: 0.0980899\ttotal: 2.51s\tremaining: 395ms\n",
            "864:\tlearn: 0.0980731\ttotal: 2.51s\tremaining: 392ms\n",
            "865:\tlearn: 0.0980164\ttotal: 2.51s\tremaining: 389ms\n",
            "866:\tlearn: 0.0978607\ttotal: 2.52s\tremaining: 386ms\n",
            "867:\tlearn: 0.0977561\ttotal: 2.52s\tremaining: 383ms\n",
            "868:\tlearn: 0.0976837\ttotal: 2.52s\tremaining: 380ms\n",
            "869:\tlearn: 0.0975037\ttotal: 2.52s\tremaining: 377ms\n",
            "870:\tlearn: 0.0973844\ttotal: 2.53s\tremaining: 374ms\n",
            "871:\tlearn: 0.0972280\ttotal: 2.53s\tremaining: 371ms\n",
            "872:\tlearn: 0.0971574\ttotal: 2.53s\tremaining: 369ms\n",
            "873:\tlearn: 0.0970370\ttotal: 2.54s\tremaining: 366ms\n",
            "874:\tlearn: 0.0968831\ttotal: 2.54s\tremaining: 363ms\n",
            "875:\tlearn: 0.0967801\ttotal: 2.54s\tremaining: 360ms\n",
            "876:\tlearn: 0.0966393\ttotal: 2.54s\tremaining: 357ms\n",
            "877:\tlearn: 0.0965678\ttotal: 2.55s\tremaining: 354ms\n",
            "878:\tlearn: 0.0964745\ttotal: 2.55s\tremaining: 351ms\n",
            "879:\tlearn: 0.0963352\ttotal: 2.55s\tremaining: 348ms\n",
            "880:\tlearn: 0.0962325\ttotal: 2.56s\tremaining: 345ms\n",
            "881:\tlearn: 0.0961533\ttotal: 2.56s\tremaining: 342ms\n",
            "882:\tlearn: 0.0959849\ttotal: 2.56s\tremaining: 339ms\n",
            "883:\tlearn: 0.0959064\ttotal: 2.56s\tremaining: 336ms\n",
            "884:\tlearn: 0.0958101\ttotal: 2.57s\tremaining: 334ms\n",
            "885:\tlearn: 0.0957356\ttotal: 2.57s\tremaining: 331ms\n",
            "886:\tlearn: 0.0956335\ttotal: 2.57s\tremaining: 328ms\n",
            "887:\tlearn: 0.0954867\ttotal: 2.57s\tremaining: 325ms\n",
            "888:\tlearn: 0.0953552\ttotal: 2.58s\tremaining: 322ms\n",
            "889:\tlearn: 0.0952752\ttotal: 2.58s\tremaining: 319ms\n",
            "890:\tlearn: 0.0952669\ttotal: 2.58s\tremaining: 316ms\n",
            "891:\tlearn: 0.0951368\ttotal: 2.58s\tremaining: 313ms\n",
            "892:\tlearn: 0.0950533\ttotal: 2.59s\tremaining: 310ms\n",
            "893:\tlearn: 0.0949582\ttotal: 2.59s\tremaining: 307ms\n",
            "894:\tlearn: 0.0948998\ttotal: 2.59s\tremaining: 304ms\n",
            "895:\tlearn: 0.0948600\ttotal: 2.6s\tremaining: 301ms\n",
            "896:\tlearn: 0.0947837\ttotal: 2.6s\tremaining: 298ms\n",
            "897:\tlearn: 0.0946915\ttotal: 2.6s\tremaining: 296ms\n",
            "898:\tlearn: 0.0946040\ttotal: 2.6s\tremaining: 293ms\n",
            "899:\tlearn: 0.0945296\ttotal: 2.61s\tremaining: 290ms\n",
            "900:\tlearn: 0.0943764\ttotal: 2.61s\tremaining: 287ms\n",
            "901:\tlearn: 0.0942938\ttotal: 2.61s\tremaining: 284ms\n",
            "902:\tlearn: 0.0941414\ttotal: 2.62s\tremaining: 281ms\n",
            "903:\tlearn: 0.0941052\ttotal: 2.62s\tremaining: 278ms\n",
            "904:\tlearn: 0.0940689\ttotal: 2.62s\tremaining: 275ms\n",
            "905:\tlearn: 0.0939980\ttotal: 2.63s\tremaining: 273ms\n",
            "906:\tlearn: 0.0939127\ttotal: 2.63s\tremaining: 270ms\n",
            "907:\tlearn: 0.0937746\ttotal: 2.63s\tremaining: 267ms\n",
            "908:\tlearn: 0.0936717\ttotal: 2.63s\tremaining: 264ms\n",
            "909:\tlearn: 0.0935946\ttotal: 2.64s\tremaining: 261ms\n",
            "910:\tlearn: 0.0935797\ttotal: 2.64s\tremaining: 258ms\n",
            "911:\tlearn: 0.0935043\ttotal: 2.64s\tremaining: 255ms\n",
            "912:\tlearn: 0.0933695\ttotal: 2.65s\tremaining: 252ms\n",
            "913:\tlearn: 0.0932721\ttotal: 2.65s\tremaining: 249ms\n",
            "914:\tlearn: 0.0931837\ttotal: 2.65s\tremaining: 246ms\n",
            "915:\tlearn: 0.0931625\ttotal: 2.65s\tremaining: 243ms\n",
            "916:\tlearn: 0.0930448\ttotal: 2.66s\tremaining: 241ms\n",
            "917:\tlearn: 0.0928804\ttotal: 2.66s\tremaining: 238ms\n",
            "918:\tlearn: 0.0927688\ttotal: 2.66s\tremaining: 235ms\n",
            "919:\tlearn: 0.0926961\ttotal: 2.67s\tremaining: 232ms\n",
            "920:\tlearn: 0.0925530\ttotal: 2.67s\tremaining: 229ms\n",
            "921:\tlearn: 0.0923331\ttotal: 2.67s\tremaining: 226ms\n",
            "922:\tlearn: 0.0922149\ttotal: 2.67s\tremaining: 223ms\n",
            "923:\tlearn: 0.0920160\ttotal: 2.67s\tremaining: 220ms\n",
            "924:\tlearn: 0.0919382\ttotal: 2.68s\tremaining: 217ms\n",
            "925:\tlearn: 0.0918498\ttotal: 2.68s\tremaining: 214ms\n",
            "926:\tlearn: 0.0917459\ttotal: 2.69s\tremaining: 212ms\n",
            "927:\tlearn: 0.0916368\ttotal: 2.69s\tremaining: 209ms\n",
            "928:\tlearn: 0.0915359\ttotal: 2.69s\tremaining: 206ms\n",
            "929:\tlearn: 0.0914521\ttotal: 2.69s\tremaining: 203ms\n",
            "930:\tlearn: 0.0914193\ttotal: 2.7s\tremaining: 200ms\n",
            "931:\tlearn: 0.0913119\ttotal: 2.7s\tremaining: 197ms\n",
            "932:\tlearn: 0.0911995\ttotal: 2.71s\tremaining: 194ms\n",
            "933:\tlearn: 0.0910649\ttotal: 2.71s\tremaining: 191ms\n",
            "934:\tlearn: 0.0909608\ttotal: 2.71s\tremaining: 189ms\n",
            "935:\tlearn: 0.0908849\ttotal: 2.72s\tremaining: 186ms\n",
            "936:\tlearn: 0.0908101\ttotal: 2.72s\tremaining: 183ms\n",
            "937:\tlearn: 0.0906939\ttotal: 2.72s\tremaining: 180ms\n",
            "938:\tlearn: 0.0905379\ttotal: 2.72s\tremaining: 177ms\n",
            "939:\tlearn: 0.0904219\ttotal: 2.73s\tremaining: 174ms\n",
            "940:\tlearn: 0.0902900\ttotal: 2.73s\tremaining: 171ms\n",
            "941:\tlearn: 0.0901752\ttotal: 2.73s\tremaining: 168ms\n",
            "942:\tlearn: 0.0900826\ttotal: 2.73s\tremaining: 165ms\n",
            "943:\tlearn: 0.0899207\ttotal: 2.74s\tremaining: 162ms\n",
            "944:\tlearn: 0.0897936\ttotal: 2.74s\tremaining: 159ms\n",
            "945:\tlearn: 0.0896645\ttotal: 2.74s\tremaining: 157ms\n",
            "946:\tlearn: 0.0895245\ttotal: 2.75s\tremaining: 154ms\n",
            "947:\tlearn: 0.0894479\ttotal: 2.75s\tremaining: 151ms\n",
            "948:\tlearn: 0.0893643\ttotal: 2.75s\tremaining: 148ms\n",
            "949:\tlearn: 0.0892749\ttotal: 2.75s\tremaining: 145ms\n",
            "950:\tlearn: 0.0892604\ttotal: 2.76s\tremaining: 142ms\n",
            "951:\tlearn: 0.0891596\ttotal: 2.76s\tremaining: 139ms\n",
            "952:\tlearn: 0.0890316\ttotal: 2.76s\tremaining: 136ms\n",
            "953:\tlearn: 0.0889062\ttotal: 2.76s\tremaining: 133ms\n",
            "954:\tlearn: 0.0887822\ttotal: 2.77s\tremaining: 130ms\n",
            "955:\tlearn: 0.0885610\ttotal: 2.77s\tremaining: 127ms\n",
            "956:\tlearn: 0.0884734\ttotal: 2.77s\tremaining: 125ms\n",
            "957:\tlearn: 0.0883689\ttotal: 2.77s\tremaining: 122ms\n",
            "958:\tlearn: 0.0882993\ttotal: 2.78s\tremaining: 119ms\n",
            "959:\tlearn: 0.0881772\ttotal: 2.78s\tremaining: 116ms\n",
            "960:\tlearn: 0.0880921\ttotal: 2.78s\tremaining: 113ms\n",
            "961:\tlearn: 0.0880421\ttotal: 2.79s\tremaining: 110ms\n",
            "962:\tlearn: 0.0879754\ttotal: 2.79s\tremaining: 107ms\n",
            "963:\tlearn: 0.0878918\ttotal: 2.79s\tremaining: 104ms\n",
            "964:\tlearn: 0.0878303\ttotal: 2.79s\tremaining: 101ms\n",
            "965:\tlearn: 0.0877456\ttotal: 2.79s\tremaining: 98.4ms\n",
            "966:\tlearn: 0.0876847\ttotal: 2.8s\tremaining: 95.5ms\n",
            "967:\tlearn: 0.0875646\ttotal: 2.8s\tremaining: 92.6ms\n",
            "968:\tlearn: 0.0874557\ttotal: 2.8s\tremaining: 89.7ms\n",
            "969:\tlearn: 0.0873951\ttotal: 2.81s\tremaining: 86.8ms\n",
            "970:\tlearn: 0.0872662\ttotal: 2.81s\tremaining: 83.9ms\n",
            "971:\tlearn: 0.0871155\ttotal: 2.81s\tremaining: 81ms\n",
            "972:\tlearn: 0.0870489\ttotal: 2.81s\tremaining: 78.1ms\n",
            "973:\tlearn: 0.0869682\ttotal: 2.82s\tremaining: 75.2ms\n",
            "974:\tlearn: 0.0868924\ttotal: 2.82s\tremaining: 72.3ms\n",
            "975:\tlearn: 0.0867937\ttotal: 2.82s\tremaining: 69.4ms\n",
            "976:\tlearn: 0.0867246\ttotal: 2.82s\tremaining: 66.5ms\n",
            "977:\tlearn: 0.0865509\ttotal: 2.83s\tremaining: 63.6ms\n",
            "978:\tlearn: 0.0864390\ttotal: 2.83s\tremaining: 60.7ms\n",
            "979:\tlearn: 0.0863729\ttotal: 2.83s\tremaining: 57.8ms\n",
            "980:\tlearn: 0.0862813\ttotal: 2.83s\tremaining: 54.9ms\n",
            "981:\tlearn: 0.0861558\ttotal: 2.84s\tremaining: 52ms\n",
            "982:\tlearn: 0.0860769\ttotal: 2.84s\tremaining: 49.1ms\n",
            "983:\tlearn: 0.0860311\ttotal: 2.84s\tremaining: 46.2ms\n",
            "984:\tlearn: 0.0859022\ttotal: 2.85s\tremaining: 43.3ms\n",
            "985:\tlearn: 0.0856929\ttotal: 2.85s\tremaining: 40.4ms\n",
            "986:\tlearn: 0.0856624\ttotal: 2.85s\tremaining: 37.6ms\n",
            "987:\tlearn: 0.0855529\ttotal: 2.85s\tremaining: 34.7ms\n",
            "988:\tlearn: 0.0854500\ttotal: 2.86s\tremaining: 31.8ms\n",
            "989:\tlearn: 0.0853461\ttotal: 2.86s\tremaining: 28.9ms\n",
            "990:\tlearn: 0.0852756\ttotal: 2.86s\tremaining: 26ms\n",
            "991:\tlearn: 0.0851916\ttotal: 2.86s\tremaining: 23.1ms\n",
            "992:\tlearn: 0.0850158\ttotal: 2.87s\tremaining: 20.2ms\n",
            "993:\tlearn: 0.0849499\ttotal: 2.87s\tremaining: 17.3ms\n",
            "994:\tlearn: 0.0848812\ttotal: 2.88s\tremaining: 14.5ms\n",
            "995:\tlearn: 0.0848097\ttotal: 2.88s\tremaining: 11.6ms\n",
            "996:\tlearn: 0.0847448\ttotal: 2.88s\tremaining: 8.68ms\n",
            "997:\tlearn: 0.0846926\ttotal: 2.89s\tremaining: 5.79ms\n",
            "998:\tlearn: 0.0846206\ttotal: 2.89s\tremaining: 2.89ms\n",
            "999:\tlearn: 0.0844964\ttotal: 2.89s\tremaining: 0us\n",
            "Catboost F1 score on validation set is :  0.5066666666666667\n"
          ]
        }
      ]
    },
    {
      "cell_type": "code",
      "metadata": {
        "id": "GF_3z52zfCBG"
      },
      "source": [
        "#Now Predict on Test set\n",
        "cat_preds = cat_model.predict(test2)"
      ],
      "execution_count": null,
      "outputs": []
    },
    {
      "cell_type": "code",
      "metadata": {
        "id": "WTEB_LOofRdd"
      },
      "source": [
        "submission_file.Response = cat_model.predict(test2)"
      ],
      "execution_count": null,
      "outputs": []
    },
    {
      "cell_type": "code",
      "metadata": {
        "id": "Gk4ypcf7fXyb"
      },
      "source": [
        "submission_file.to_csv('c_Submission.csv', index= False)"
      ],
      "execution_count": null,
      "outputs": []
    },
    {
      "cell_type": "markdown",
      "metadata": {
        "id": "aIlyZGECfa_U"
      },
      "source": [
        "## NaiveModel"
      ]
    },
    {
      "cell_type": "code",
      "metadata": {
        "colab": {
          "base_uri": "https://localhost:8080/"
        },
        "id": "PkwOPuunfeFj",
        "outputId": "3e08ba33-ca9f-490d-aebf-5c7d7c834aef"
      },
      "source": [
        "from sklearn.naive_bayes import GaussianNB\n",
        "naivemodel= GaussianNB()\n",
        "naivemodel.fit(X_train, y_train)"
      ],
      "execution_count": null,
      "outputs": [
        {
          "output_type": "execute_result",
          "data": {
            "text/plain": [
              "GaussianNB(priors=None, var_smoothing=1e-09)"
            ]
          },
          "metadata": {},
          "execution_count": 54
        }
      ]
    },
    {
      "cell_type": "code",
      "metadata": {
        "colab": {
          "base_uri": "https://localhost:8080/"
        },
        "id": "g1jDwZGrfoq6",
        "outputId": "1fde1eaa-f9a4-4389-bf5f-65fcb9bc9583"
      },
      "source": [
        "GaussianNB()"
      ],
      "execution_count": null,
      "outputs": [
        {
          "output_type": "execute_result",
          "data": {
            "text/plain": [
              "GaussianNB(priors=None, var_smoothing=1e-09)"
            ]
          },
          "metadata": {},
          "execution_count": 55
        }
      ]
    },
    {
      "cell_type": "code",
      "metadata": {
        "id": "AUwtyr5Ofon_"
      },
      "source": [
        "naivemodel_prediction = naivemodel.predict(X_test)"
      ],
      "execution_count": null,
      "outputs": []
    },
    {
      "cell_type": "code",
      "metadata": {
        "colab": {
          "base_uri": "https://localhost:8080/"
        },
        "id": "hQWfp-Tnfokl",
        "outputId": "a958252e-fbf0-4a46-e909-2cec498969f8"
      },
      "source": [
        "f1_score(y_test, naivemodel_prediction, average= 'micro')"
      ],
      "execution_count": null,
      "outputs": [
        {
          "output_type": "execute_result",
          "data": {
            "text/plain": [
              "0.5031847133757962"
            ]
          },
          "metadata": {},
          "execution_count": 57
        }
      ]
    },
    {
      "cell_type": "code",
      "metadata": {
        "colab": {
          "base_uri": "https://localhost:8080/"
        },
        "id": "aGuxaAUtfogs",
        "outputId": "52b913b3-fb43-4153-c2c6-bb9b23bdf96a"
      },
      "source": [
        "accuracy_score(y_test, naivemodel_prediction)"
      ],
      "execution_count": null,
      "outputs": [
        {
          "output_type": "execute_result",
          "data": {
            "text/plain": [
              "0.5031847133757962"
            ]
          },
          "metadata": {},
          "execution_count": 58
        }
      ]
    },
    {
      "cell_type": "code",
      "metadata": {
        "id": "OZS7lP30fobe"
      },
      "source": [
        "submission_file.Response =naivemodel.predict(test2)"
      ],
      "execution_count": null,
      "outputs": []
    },
    {
      "cell_type": "code",
      "metadata": {
        "id": "oLhE2_DHfoWx"
      },
      "source": [
        "submission_file.to_csv('d_Submission.csv', index= False)"
      ],
      "execution_count": null,
      "outputs": []
    },
    {
      "cell_type": "markdown",
      "metadata": {
        "id": "DmcIHALagU-q"
      },
      "source": [
        "## XGBOOST"
      ]
    },
    {
      "cell_type": "code",
      "metadata": {
        "id": "X_DVXyIAfoT0"
      },
      "source": [
        "from xgboost import XGBClassifier\n",
        "\n",
        "xgboost_model = XGBClassifier(use_label_encoder =False)\n",
        "xgboost_model = xgboost_model.fit(X_train, y_train)"
      ],
      "execution_count": null,
      "outputs": []
    },
    {
      "cell_type": "code",
      "metadata": {
        "id": "C4WM5BWjfoMW"
      },
      "source": [
        "xgb_predict= xgboost_model.predict(X_test)"
      ],
      "execution_count": null,
      "outputs": []
    },
    {
      "cell_type": "code",
      "metadata": {
        "colab": {
          "base_uri": "https://localhost:8080/"
        },
        "id": "xpeciVYhfoHC",
        "outputId": "d677c928-c044-41fc-9bc2-a9d643c1cc68"
      },
      "source": [
        "f1_score(y_test,xgb_predict, average= 'micro')"
      ],
      "execution_count": null,
      "outputs": [
        {
          "output_type": "execute_result",
          "data": {
            "text/plain": [
              "0.8821656050955414"
            ]
          },
          "metadata": {},
          "execution_count": 63
        }
      ]
    },
    {
      "cell_type": "code",
      "metadata": {
        "id": "802QMxesfn7x"
      },
      "source": [
        "submission_file.Response = xgboost_model.predict(test2)"
      ],
      "execution_count": null,
      "outputs": []
    },
    {
      "cell_type": "code",
      "metadata": {
        "id": "_3q4-0W3fnsV"
      },
      "source": [
        "submission_file.to_csv('g5_Submission.csv', index= False)"
      ],
      "execution_count": null,
      "outputs": []
    },
    {
      "cell_type": "markdown",
      "metadata": {
        "id": "UaCRBc9tW586"
      },
      "source": [
        "## SMOTE Imblearn"
      ]
    },
    {
      "cell_type": "code",
      "metadata": {
        "id": "X6P-CIbwKIcZ"
      },
      "source": [
        "from imblearn.over_sampling import SMOTE\n",
        "seed = 50\n",
        "sm = SMOTE(sampling_strategy={1:280, 0:1328}, random_state=seed) \n",
        "X_, y_ = sm.fit_resample(X, y)"
      ],
      "execution_count": null,
      "outputs": []
    },
    {
      "cell_type": "code",
      "metadata": {
        "colab": {
          "base_uri": "https://localhost:8080/"
        },
        "id": "Xc_4X834KIcb",
        "outputId": "6080313b-a3e1-4644-a06a-21154f270dea"
      },
      "source": [
        "%%time\n",
        "from sklearn.ensemble import RandomForestClassifier\n",
        "folds = KFold(n_splits=5, shuffle=True, random_state=1234)\n",
        "oofs = np.zeros((len(X_)))\n",
        "preds = np.zeros((len(test2)))\n",
        "\n",
        "for fold_, (trn_idx, val_idx) in enumerate(folds.split(X_, y_)):\n",
        "    \n",
        "    X_trn, y_trn = X_[trn_idx], y_[trn_idx]\n",
        "    X_val, y_val = X_[val_idx], y_[val_idx]\n",
        "    \n",
        "    \n",
        "    clf = LGBMClassifier(learning_rate=0.2, n_estimators=1000, scale_pos_weight=4, max_depth=-1, colsample_bytree=0.7, subsample=0.85, reg_alpha=3, reg_lambda=20)\n",
        "    clf.fit(X_trn, y_trn, eval_set = [(X_val, y_val)],\n",
        "                    verbose = 0, early_stopping_rounds=200)\n",
        "    \n",
        "    vp = clf.predict_proba(X_val)[:,1]\n",
        "    b = pd.DataFrame(vp)\n",
        "    b[0] = np.where(b[0]>0.5, 1, 0)\n",
        "    val_score = f1_score((y_val), (b[0]))\n",
        "    \n",
        "    print(f'\\nFold {fold_+1} Val score: {val_score}\\n')\n",
        "    \n",
        "    tp = clf.predict_proba(test2)[:,1]\n",
        "    \n",
        "    oofs[val_idx] = vp\n",
        "    preds += tp/5\n",
        "    \n",
        "a = pd.DataFrame(oofs)\n",
        "a[0] = np.where(a[0]>0.5, 1, 0)\n",
        "oof_score = f1_score((y_), (a[0]))\n",
        "print(f'\\nOOF F1 score is : {oof_score}')"
      ],
      "execution_count": null,
      "outputs": [
        {
          "output_type": "stream",
          "name": "stdout",
          "text": [
            "\n",
            "Fold 1 Val score: 0.7058823529411764\n",
            "\n",
            "\n",
            "Fold 2 Val score: 0.7079646017699116\n",
            "\n",
            "\n",
            "Fold 3 Val score: 0.673076923076923\n",
            "\n",
            "\n",
            "Fold 4 Val score: 0.6605504587155964\n",
            "\n",
            "\n",
            "Fold 5 Val score: 0.6984126984126984\n",
            "\n",
            "\n",
            "OOF F1 score is : 0.6900175131348513\n",
            "CPU times: user 1.81 s, sys: 72.7 ms, total: 1.89 s\n",
            "Wall time: 1.01 s\n"
          ]
        }
      ]
    },
    {
      "cell_type": "code",
      "metadata": {
        "id": "4JndNHG6KIce"
      },
      "source": [
        "submission_file['Response'] = preds"
      ],
      "execution_count": null,
      "outputs": []
    },
    {
      "cell_type": "code",
      "metadata": {
        "colab": {
          "base_uri": "https://localhost:8080/",
          "height": 200
        },
        "id": "N5LbMNMWKIce",
        "outputId": "3f984577-468a-46ff-91ec-2a553e4ba57c"
      },
      "source": [
        "submission_file.head()"
      ],
      "execution_count": null,
      "outputs": [
        {
          "output_type": "execute_result",
          "data": {
            "text/html": [
              "<div>\n",
              "<style scoped>\n",
              "    .dataframe tbody tr th:only-of-type {\n",
              "        vertical-align: middle;\n",
              "    }\n",
              "\n",
              "    .dataframe tbody tr th {\n",
              "        vertical-align: top;\n",
              "    }\n",
              "\n",
              "    .dataframe thead th {\n",
              "        text-align: right;\n",
              "    }\n",
              "</style>\n",
              "<table border=\"1\" class=\"dataframe\">\n",
              "  <thead>\n",
              "    <tr style=\"text-align: right;\">\n",
              "      <th></th>\n",
              "      <th>ID</th>\n",
              "      <th>Response</th>\n",
              "    </tr>\n",
              "  </thead>\n",
              "  <tbody>\n",
              "    <tr>\n",
              "      <th>0</th>\n",
              "      <td>ID_ZPMABNVX</td>\n",
              "      <td>0.119145</td>\n",
              "    </tr>\n",
              "    <tr>\n",
              "      <th>1</th>\n",
              "      <td>ID_WFE91NAA</td>\n",
              "      <td>0.337157</td>\n",
              "    </tr>\n",
              "    <tr>\n",
              "      <th>2</th>\n",
              "      <td>ID_JV11RBRK</td>\n",
              "      <td>0.062347</td>\n",
              "    </tr>\n",
              "    <tr>\n",
              "      <th>3</th>\n",
              "      <td>ID_6B7SVKY9</td>\n",
              "      <td>0.655202</td>\n",
              "    </tr>\n",
              "    <tr>\n",
              "      <th>4</th>\n",
              "      <td>ID_GOVUZ545</td>\n",
              "      <td>0.219507</td>\n",
              "    </tr>\n",
              "  </tbody>\n",
              "</table>\n",
              "</div>"
            ],
            "text/plain": [
              "            ID  Response\n",
              "0  ID_ZPMABNVX  0.119145\n",
              "1  ID_WFE91NAA  0.337157\n",
              "2  ID_JV11RBRK  0.062347\n",
              "3  ID_6B7SVKY9  0.655202\n",
              "4  ID_GOVUZ545  0.219507"
            ]
          },
          "metadata": {},
          "execution_count": 22
        }
      ]
    },
    {
      "cell_type": "code",
      "metadata": {
        "id": "AfxLd4jkKIcf"
      },
      "source": [
        "submission_file['Response'] = np.where(submission_file['Response']>=0.5, 1, 0)"
      ],
      "execution_count": null,
      "outputs": []
    },
    {
      "cell_type": "code",
      "metadata": {
        "colab": {
          "base_uri": "https://localhost:8080/"
        },
        "id": "R7U8DShYKIcg",
        "outputId": "83d32a21-db33-4e34-8329-22b1b9d7fe78"
      },
      "source": [
        "submission_file['Response'].value_counts()"
      ],
      "execution_count": null,
      "outputs": [
        {
          "output_type": "execute_result",
          "data": {
            "text/plain": [
              "0    554\n",
              "1    118\n",
              "Name: Response, dtype: int64"
            ]
          },
          "metadata": {},
          "execution_count": 24
        }
      ]
    },
    {
      "cell_type": "code",
      "metadata": {
        "id": "SgeqtowUKIcg"
      },
      "source": [
        "submission_file.to_csv('isub2.csv', index=False)"
      ],
      "execution_count": null,
      "outputs": []
    },
    {
      "cell_type": "code",
      "metadata": {
        "id": "YkSNRobNKIch"
      },
      "source": [
        ""
      ],
      "execution_count": null,
      "outputs": []
    }
  ]
}